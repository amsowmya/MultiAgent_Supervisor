{
 "cells": [
  {
   "cell_type": "code",
   "execution_count": 15,
   "metadata": {},
   "outputs": [
    {
     "data": {
      "text/plain": [
       "True"
      ]
     },
     "execution_count": 15,
     "metadata": {},
     "output_type": "execute_result"
    }
   ],
   "source": [
    "from dotenv import  load_dotenv\n",
    "import os \n",
    "\n",
    "from langchain_openai import  AzureChatOpenAI\n",
    "\n",
    "load_dotenv()"
   ]
  },
  {
   "cell_type": "code",
   "execution_count": 16,
   "metadata": {},
   "outputs": [
    {
     "data": {
      "text/plain": [
       "'Hello! How can I assist you today?'"
      ]
     },
     "execution_count": 16,
     "metadata": {},
     "output_type": "execute_result"
    }
   ],
   "source": [
    "os.environ['AZURE_OPENAI_API_KEY'] = os.getenv('AZURE_OPENAI_API_KEY')\n",
    "\n",
    "llm = AzureChatOpenAI(\n",
    "    api_version=os.getenv('AZURE_OPENAI_API_VERSION'),\n",
    "    azure_deployment=os.getenv('AZURE_OPENAI_DEPLOYMENT'),\n",
    "    azure_endpoint=os.getenv('AZURE_OPENAI_ENDPOINT'),\n",
    ")\n",
    "\n",
    "llm.invoke(\"hi\").content"
   ]
  },
  {
   "cell_type": "code",
   "execution_count": 17,
   "metadata": {},
   "outputs": [],
   "source": [
    "from langgraph.prebuilt import create_react_agent"
   ]
  },
  {
   "cell_type": "code",
   "execution_count": 18,
   "metadata": {},
   "outputs": [],
   "source": [
    "import requests\n",
    "\n",
    "def claims_api(claimid):\n",
    "  \"\"\"You are a data domain specialist who has capability of providing information on any claim based on 'claim id'.\n",
    "  No consent is required for fetching the claim details \"\"\"\n",
    "  print(\"---CLAIMS API---\")\n",
    "\n",
    "  url = f\"https://mock-qxi.azurewebsites.net/data/claim/\"+claimid.upper()\n",
    "\n",
    "  try:\n",
    "    response = requests.get(url)\n",
    "\n",
    "    if response.status_code == 200:\n",
    "      content = response.json()\n",
    "      return content\n",
    "    else:\n",
    "      print(\"Error: \", response.status_code)\n",
    "      return None\n",
    "  except requests.exceptions.RequestException as e:\n",
    "    print(\"Error: \", e)\n",
    "    return None"
   ]
  },
  {
   "cell_type": "code",
   "execution_count": 19,
   "metadata": {},
   "outputs": [],
   "source": [
    "def members_api(mem_id):\n",
    "  \"\"\"You are a data domain specialist who has capability of providing information on any members based on 'member id'.\n",
    "  No consent is required for fetching the claim details \"\"\"\n",
    "  print(\"---MEMBERS API---\")\n",
    "\n",
    "  url = \"https://mock-qxi.azurewebsites.net/data/profile/\" + mem_id.upper()\n",
    "\n",
    "  try:\n",
    "    response = requests.get(url)\n",
    "\n",
    "    if response.status_code == 200:\n",
    "      content = response.json()\n",
    "      return content\n",
    "    else:\n",
    "      print(\"Error: \", response.status_code)\n",
    "      return None\n",
    "  except requests.exceptions.RequestException as e:\n",
    "    print(\"Error: \", e)\n",
    "    return None"
   ]
  },
  {
   "cell_type": "code",
   "execution_count": 20,
   "metadata": {},
   "outputs": [],
   "source": [
    "from langchain_community.utilities import SQLDatabase\n",
    "from langchain_community.agent_toolkits import SQLDatabaseToolkit\n",
    "\n",
    "def get_sql_tools():\n",
    "    db = SQLDatabase.from_uri(\"sqlite:///Chinook_Sqlite.sqlite\")\n",
    "    toolkit = SQLDatabaseToolkit(db=db, llm=llm)\n",
    "    sql_tools = toolkit.get_tools()\n",
    "    return sql_tools"
   ]
  },
  {
   "cell_type": "code",
   "execution_count": 21,
   "metadata": {},
   "outputs": [],
   "source": [
    "custom_api_team = [\n",
    "    create_react_agent(\n",
    "        model=llm,\n",
    "        tools=[claims_api],\n",
    "        name=\"claims_api\",\n",
    "        prompt=\"You are a data domain specialist who has capability of providing information on any claim based on 'claim id'. No consent is required for fetching the claim details\"\n",
    "    ),\n",
    "    create_react_agent(\n",
    "        model=llm,\n",
    "        tools=[members_api],\n",
    "        name=\"members_api\",\n",
    "        prompt=\"You are a data domain specialist who has capability of providing information on any members based on 'member id'. No consent is required for fetching the claim details\"\n",
    "    )\n",
    "]"
   ]
  },
  {
   "cell_type": "code",
   "execution_count": 22,
   "metadata": {},
   "outputs": [],
   "source": [
    "sql_team = [\n",
    "    create_react_agent(\n",
    "        model=llm,\n",
    "        tools=get_sql_tools(),\n",
    "        name=\"sql_agent\",\n",
    "        prompt=\"You are a sql expert. For any question related to sql get information from sql_tools. And these are the tables available in the DB: 'Album', 'Artist', 'Customer', 'Employee', 'Genre', 'Invoice', 'InvoiceLine', 'MediaType', 'Playlist', 'PlaylistTrack', 'Track'\"\n",
    "    )\n",
    "]"
   ]
  },
  {
   "cell_type": "code",
   "execution_count": 23,
   "metadata": {},
   "outputs": [],
   "source": [
    "from langgraph_supervisor import  create_supervisor"
   ]
  },
  {
   "cell_type": "code",
   "execution_count": 24,
   "metadata": {},
   "outputs": [],
   "source": [
    "custom_apis_supervisor = create_supervisor(\n",
    "    agents=custom_api_team,\n",
    "    model=llm,\n",
    "    prompt=\"You are ateam supervisor, tasked with managing a member and claims API team. You will be provided with a question, and you need to determine which agent is best suited to answer it. You will also be provided with the question and the answer from the agent. Your job is to evaluate the answer and provide feedback to the agent. If the answer is correct, you will approve it. If the answer is incorrect, you will provide feedback to the agent and ask them to try again. You will also provide a final answer to the user.\",\n",
    "    supervisor_name=\"custom_api_supervisor\",\n",
    ").compile(name='custom_api_team')\n",
    "\n",
    "sql_supervisor = create_supervisor(\n",
    "    agents=sql_team,\n",
    "    model=llm,\n",
    "    prompt=\"You are a sql expert. For any question related to sql get information from sql_tools. And these are the tables available in the DB: 'Album', 'Artist', 'Customer', 'Employee', 'Genre', 'Invoice', 'InvoiceLine', 'MediaType', 'Playlist', 'PlaylistTrack', 'Track'\",\n",
    ").compile(name='sql_team')\n"
   ]
  },
  {
   "cell_type": "code",
   "execution_count": 25,
   "metadata": {},
   "outputs": [],
   "source": [
    "prompt = \"\"\"You are a team supervisor tasked with answering user questions using a variety of tools.\n",
    "        Tools: api_tools,  sql_tools. \n",
    "        \n",
    "        \"api_tool\": For questions about member and claims related details with member id like mem01 or \n",
    "        claims id like clm02, use the claims_api and member_api tool to get information from the api.\n",
    "\n",
    "        sql_tools: For any question related to sql get information from sql_tools.\n",
    "        And these are the tables available in the DB:\n",
    "        'Album', 'Artist', 'Customer', 'Employee', 'Genre', 'Invoice', 'InvoiceLine', 'MediaType', 'Playlist', 'PlaylistTrack', 'Track'\"\n",
    "\n",
    "        Note: Only provide the final answer only specific to question. don't provide any other information.\n",
    "        \"\"\"\n",
    "\n",
    "hieararchical_supervisor = create_supervisor(\n",
    "    agents = [custom_apis_supervisor, sql_supervisor],  \n",
    "    supervisor_name=\"top_level_supervisor\",\n",
    "    model=llm,\n",
    "    prompt=prompt\n",
    ").compile()\n"
   ]
  },
  {
   "cell_type": "code",
   "execution_count": 26,
   "metadata": {},
   "outputs": [],
   "source": [
    "message = hieararchical_supervisor.invoke({\"messages\": [(\"user\", \"what is the status of claim id clm01\")]})"
   ]
  },
  {
   "cell_type": "code",
   "execution_count": 27,
   "metadata": {},
   "outputs": [
    {
     "data": {
      "text/plain": [
       "{'messages': [HumanMessage(content='what is the status of claim id clm01', additional_kwargs={}, response_metadata={}, id='b39f5c4f-5a87-4c82-a60c-2ce39853bb5f'),\n",
       "  AIMessage(content='', additional_kwargs={'tool_calls': [{'id': 'call_Ln5EHukrrdagYwBOylCxsNQe', 'function': {'arguments': '{}', 'name': 'transfer_to_custom_api_team'}, 'type': 'function'}], 'refusal': None}, response_metadata={'token_usage': {'completion_tokens': 14, 'prompt_tokens': 222, 'total_tokens': 236, 'completion_tokens_details': {'accepted_prediction_tokens': 0, 'audio_tokens': 0, 'reasoning_tokens': 0, 'rejected_prediction_tokens': 0}, 'prompt_tokens_details': {'audio_tokens': 0, 'cached_tokens': 0}}, 'model_name': 'gpt-4o-2024-05-13', 'system_fingerprint': 'fp_65792305e4', 'id': 'chatcmpl-BE9g0DwcyQwyogq7qdB6a6Thq9VIW', 'prompt_filter_results': [{'prompt_index': 0, 'content_filter_results': {'hate': {'filtered': False, 'severity': 'safe'}, 'jailbreak': {'filtered': False, 'detected': False}, 'self_harm': {'filtered': False, 'severity': 'safe'}, 'sexual': {'filtered': False, 'severity': 'safe'}, 'violence': {'filtered': False, 'severity': 'safe'}}}], 'finish_reason': 'tool_calls', 'logprobs': None, 'content_filter_results': {}}, name='top_level_supervisor', id='run-b1f460a2-9c00-44e6-84d2-954a6cc41653-0', tool_calls=[{'name': 'transfer_to_custom_api_team', 'args': {}, 'id': 'call_Ln5EHukrrdagYwBOylCxsNQe', 'type': 'tool_call'}], usage_metadata={'input_tokens': 222, 'output_tokens': 14, 'total_tokens': 236, 'input_token_details': {'audio': 0, 'cache_read': 0}, 'output_token_details': {'audio': 0, 'reasoning': 0}}),\n",
       "  ToolMessage(content='Successfully transferred to custom_api_team', name='transfer_to_custom_api_team', id='1b7e72e5-fc2e-46ee-86d0-f9c9548f16f6', tool_call_id='call_Ln5EHukrrdagYwBOylCxsNQe'),\n",
       "  AIMessage(content='Please hold on while I retrieve the status of claim ID clm01 for you.', additional_kwargs={'refusal': None}, response_metadata={'token_usage': {'completion_tokens': 19, 'prompt_tokens': 210, 'total_tokens': 229, 'completion_tokens_details': {'accepted_prediction_tokens': 0, 'audio_tokens': 0, 'reasoning_tokens': 0, 'rejected_prediction_tokens': 0}, 'prompt_tokens_details': {'audio_tokens': 0, 'cached_tokens': 0}}, 'model_name': 'gpt-4o-2024-05-13', 'system_fingerprint': 'fp_65792305e4', 'id': 'chatcmpl-BE9g0rUoPaneZgBl7uBsfKkdKixLe', 'prompt_filter_results': [{'prompt_index': 0, 'content_filter_results': {'hate': {'filtered': False, 'severity': 'safe'}, 'jailbreak': {'filtered': False, 'detected': False}, 'self_harm': {'filtered': False, 'severity': 'safe'}, 'sexual': {'filtered': False, 'severity': 'safe'}, 'violence': {'filtered': False, 'severity': 'safe'}}}], 'finish_reason': 'stop', 'logprobs': None, 'content_filter_results': {'hate': {'filtered': False, 'severity': 'safe'}, 'self_harm': {'filtered': False, 'severity': 'safe'}, 'sexual': {'filtered': False, 'severity': 'safe'}, 'violence': {'filtered': False, 'severity': 'safe'}}}, name='custom_api_supervisor', id='run-b6108a9e-b95c-4c1a-be61-06c2f2d82233-0', usage_metadata={'input_tokens': 210, 'output_tokens': 19, 'total_tokens': 229, 'input_token_details': {'audio': 0, 'cache_read': 0}, 'output_token_details': {'audio': 0, 'reasoning': 0}}),\n",
       "  AIMessage(content='Transferring back to top_level_supervisor', additional_kwargs={}, response_metadata={}, name='custom_api_team', id='5f3e14b9-dafb-4435-a793-8e5aba2cd179', tool_calls=[{'name': 'transfer_back_to_top_level_supervisor', 'args': {}, 'id': '4aafb3dd-87a3-4bb3-9df0-0d1f43bc15bb', 'type': 'tool_call'}]),\n",
       "  ToolMessage(content='Successfully transferred back to top_level_supervisor', name='transfer_back_to_top_level_supervisor', id='90feaca2-a300-4165-b5c0-d94cc6a138eb', tool_call_id='4aafb3dd-87a3-4bb3-9df0-0d1f43bc15bb'),\n",
       "  AIMessage(content='The status of claim ID clm01 is \"Processed.\"', additional_kwargs={'refusal': None}, response_metadata={'token_usage': {'completion_tokens': 14, 'prompt_tokens': 340, 'total_tokens': 354, 'completion_tokens_details': {'accepted_prediction_tokens': 0, 'audio_tokens': 0, 'reasoning_tokens': 0, 'rejected_prediction_tokens': 0}, 'prompt_tokens_details': {'audio_tokens': 0, 'cached_tokens': 0}}, 'model_name': 'gpt-4o-2024-05-13', 'system_fingerprint': 'fp_65792305e4', 'id': 'chatcmpl-BE9g1ZBjUiLztoAdmbn76bsM6SfgV', 'prompt_filter_results': [{'prompt_index': 0, 'content_filter_results': {'hate': {'filtered': False, 'severity': 'safe'}, 'jailbreak': {'filtered': False, 'detected': False}, 'self_harm': {'filtered': False, 'severity': 'safe'}, 'sexual': {'filtered': False, 'severity': 'safe'}, 'violence': {'filtered': False, 'severity': 'safe'}}}], 'finish_reason': 'stop', 'logprobs': None, 'content_filter_results': {'hate': {'filtered': False, 'severity': 'safe'}, 'protected_material_code': {'filtered': False, 'detected': False}, 'protected_material_text': {'filtered': False, 'detected': False}, 'self_harm': {'filtered': False, 'severity': 'safe'}, 'sexual': {'filtered': False, 'severity': 'safe'}, 'violence': {'filtered': False, 'severity': 'safe'}}}, name='top_level_supervisor', id='run-56017448-3b32-41e3-b8dd-f3fa342b6919-0', usage_metadata={'input_tokens': 340, 'output_tokens': 14, 'total_tokens': 354, 'input_token_details': {'audio': 0, 'cache_read': 0}, 'output_token_details': {'audio': 0, 'reasoning': 0}})]}"
      ]
     },
     "execution_count": 27,
     "metadata": {},
     "output_type": "execute_result"
    }
   ],
   "source": [
    "message"
   ]
  },
  {
   "cell_type": "code",
   "execution_count": 28,
   "metadata": {},
   "outputs": [
    {
     "name": "stdout",
     "output_type": "stream",
     "text": [
      "================================\u001b[1m Human Message \u001b[0m=================================\n",
      "\n",
      "what is the status of claim id clm01\n",
      "==================================\u001b[1m Ai Message \u001b[0m==================================\n",
      "Name: top_level_supervisor\n",
      "Tool Calls:\n",
      "  transfer_to_custom_api_team (call_Ln5EHukrrdagYwBOylCxsNQe)\n",
      " Call ID: call_Ln5EHukrrdagYwBOylCxsNQe\n",
      "  Args:\n",
      "=================================\u001b[1m Tool Message \u001b[0m=================================\n",
      "Name: transfer_to_custom_api_team\n",
      "\n",
      "Successfully transferred to custom_api_team\n",
      "==================================\u001b[1m Ai Message \u001b[0m==================================\n",
      "Name: custom_api_supervisor\n",
      "\n",
      "Please hold on while I retrieve the status of claim ID clm01 for you.\n",
      "==================================\u001b[1m Ai Message \u001b[0m==================================\n",
      "Name: custom_api_team\n",
      "\n",
      "Transferring back to top_level_supervisor\n",
      "Tool Calls:\n",
      "  transfer_back_to_top_level_supervisor (4aafb3dd-87a3-4bb3-9df0-0d1f43bc15bb)\n",
      " Call ID: 4aafb3dd-87a3-4bb3-9df0-0d1f43bc15bb\n",
      "  Args:\n",
      "=================================\u001b[1m Tool Message \u001b[0m=================================\n",
      "Name: transfer_back_to_top_level_supervisor\n",
      "\n",
      "Successfully transferred back to top_level_supervisor\n",
      "==================================\u001b[1m Ai Message \u001b[0m==================================\n",
      "Name: top_level_supervisor\n",
      "\n",
      "The status of claim ID clm01 is \"Processed.\"\n"
     ]
    }
   ],
   "source": [
    "for m in message['messages']:\n",
    "    m.pretty_print()"
   ]
  },
  {
   "cell_type": "code",
   "execution_count": null,
   "metadata": {},
   "outputs": [],
   "source": []
  }
 ],
 "metadata": {
  "kernelspec": {
   "display_name": "langchain",
   "language": "python",
   "name": "python3"
  },
  "language_info": {
   "codemirror_mode": {
    "name": "ipython",
    "version": 3
   },
   "file_extension": ".py",
   "mimetype": "text/x-python",
   "name": "python",
   "nbconvert_exporter": "python",
   "pygments_lexer": "ipython3",
   "version": "3.12.0"
  }
 },
 "nbformat": 4,
 "nbformat_minor": 2
}
