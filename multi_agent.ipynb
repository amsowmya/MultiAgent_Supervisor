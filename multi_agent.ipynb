{
 "cells": [
  {
   "cell_type": "code",
   "execution_count": 37,
   "metadata": {},
   "outputs": [
    {
     "data": {
      "text/plain": [
       "True"
      ]
     },
     "execution_count": 37,
     "metadata": {},
     "output_type": "execute_result"
    }
   ],
   "source": [
    "from langchain_openai import AzureChatOpenAI\n",
    "from langchain_community.tools.tavily_search import TavilySearchResults\n",
    "from dotenv import load_dotenv\n",
    "import os \n",
    "\n",
    "load_dotenv()"
   ]
  },
  {
   "cell_type": "code",
   "execution_count": 38,
   "metadata": {},
   "outputs": [
    {
     "data": {
      "text/plain": [
       "AIMessage(content='Hello! How can I help you today?', additional_kwargs={'refusal': None}, response_metadata={'token_usage': {'completion_tokens': 9, 'prompt_tokens': 8, 'total_tokens': 17, 'completion_tokens_details': {'accepted_prediction_tokens': 0, 'audio_tokens': 0, 'reasoning_tokens': 0, 'rejected_prediction_tokens': 0}, 'prompt_tokens_details': {'audio_tokens': 0, 'cached_tokens': 0}}, 'model_name': 'gpt-4o-2024-05-13', 'system_fingerprint': 'fp_b705f0c291', 'prompt_filter_results': [{'prompt_index': 0, 'content_filter_results': {'hate': {'filtered': False, 'severity': 'safe'}, 'jailbreak': {'filtered': False, 'detected': False}, 'self_harm': {'filtered': False, 'severity': 'safe'}, 'sexual': {'filtered': False, 'severity': 'safe'}, 'violence': {'filtered': False, 'severity': 'safe'}}}], 'finish_reason': 'stop', 'logprobs': None, 'content_filter_results': {'hate': {'filtered': False, 'severity': 'safe'}, 'protected_material_code': {'filtered': False, 'detected': False}, 'protected_material_text': {'filtered': False, 'detected': False}, 'self_harm': {'filtered': False, 'severity': 'safe'}, 'sexual': {'filtered': False, 'severity': 'safe'}, 'violence': {'filtered': False, 'severity': 'safe'}}}, id='run-362a66d7-ba59-4b4e-9430-b53ce18c31b7-0', usage_metadata={'input_tokens': 8, 'output_tokens': 9, 'total_tokens': 17, 'input_token_details': {'audio': 0, 'cache_read': 0}, 'output_token_details': {'audio': 0, 'reasoning': 0}})"
      ]
     },
     "execution_count": 38,
     "metadata": {},
     "output_type": "execute_result"
    }
   ],
   "source": [
    "os.environ['AZURE_OPENAI_API_KEY'] = os.getenv('AZURE_OPENAI_API_KEY')\n",
    "os.environ['LANGCHAIN_API_KEY'] = os.getenv('LANGCHAIN_API_KEY')\n",
    "os.environ['LANGCHAIN_PROJECT'] = \"multi-agent-project\"\n",
    "os.environ['LANGSMITH_TRACING_V2'] = os.getenv('LANGSMITH_TRACING_V2')\n",
    "\n",
    "llm = AzureChatOpenAI(\n",
    "    api_version=os.getenv('AZURE_OPENAI_API_VERSION'),\n",
    "    azure_deployment=os.getenv('AZURE_OPENAI_DEPLOYMENT'),\n",
    "    azure_endpoint=os.getenv('AZURE_OPENAI_ENDPOINT')\n",
    ")\n",
    "\n",
    "llm.invoke(\"hi\")"
   ]
  },
  {
   "cell_type": "code",
   "execution_count": 39,
   "metadata": {},
   "outputs": [],
   "source": [
    "def add(a: float, b: float) -> float:\n",
    "    \"\"\"Add two numbers\"\"\"\n",
    "    return a + b\n",
    "\n",
    "def multiply(a: float, b: float) -> float:\n",
    "    \"\"\"Multiply two numbers\"\"\"\n",
    "    return a * b\n",
    "\n",
    "tavily = TavilySearchResults()\n",
    "\n",
    "def web_search(query: str):\n",
    "    \"\"\"Web search\"\"\"\n",
    "    result = llm.bind_tools([tavily]).invoke(query)\n",
    "    return result"
   ]
  },
  {
   "cell_type": "code",
   "execution_count": 40,
   "metadata": {},
   "outputs": [],
   "source": [
    "from langgraph.prebuilt import create_react_agent\n",
    "\n",
    "math_agent = create_react_agent(\n",
    "    model=llm,\n",
    "    tools=[add, multiply],\n",
    "    name=\"math_expert\",\n",
    "    prompt=\"You are a math expert perform all arithmetic operations. Only use one tool at a time\"\n",
    ")\n",
    "\n",
    "research_agent = create_react_agent(\n",
    "    model=llm,\n",
    "    tools=[web_search],\n",
    "    name=\"research_expert\",\n",
    "    prompt=\"You are a world class researcher perform all research related activities. Do not do math\"\n",
    ")"
   ]
  },
  {
   "cell_type": "code",
   "execution_count": 41,
   "metadata": {},
   "outputs": [],
   "source": [
    "from langgraph_supervisor import create_supervisor\n",
    "\n",
    "prompt = \"\"\" You are a team supervisor managing a research expert and math expert.\n",
    "For current events, use research_expert.\n",
    "For math problems, use math_expert.\n",
    "\"\"\"\n",
    "\n",
    "workflow = create_supervisor(\n",
    "    agents=[math_agent, research_agent],\n",
    "    model=llm,\n",
    "    prompt=prompt,\n",
    "    output_mode=\"full_history\"\n",
    "    # clear_output=\"last_message\"\n",
    ")\n",
    "\n",
    "app = workflow.compile()"
   ]
  },
  {
   "cell_type": "code",
   "execution_count": 42,
   "metadata": {},
   "outputs": [
    {
     "data": {
      "image/png": "[encoded data removed]",
      "text/plain": [
       "<IPython.core.display.Image object>"
      ]
     },
     "metadata": {},
     "output_type": "display_data"
    }
   ],
   "source": [
    "from IPython.display import display, Image\n",
    "\n",
    "display(Image(app.get_graph().draw_mermaid_png()))"
   ]
  },
  {
   "cell_type": "code",
   "execution_count": 43,
   "metadata": {},
   "outputs": [],
   "source": [
    "result = app.invoke({\"messages\": (\"user\", \"what's the total population of China and japan in 2000? and multiply it by 2\")})"
   ]
  },
  {
   "cell_type": "code",
   "execution_count": 44,
   "metadata": {},
   "outputs": [
    {
     "data": {
      "text/plain": [
       "{'messages': [HumanMessage(content=\"what's the total population of China and japan in 2000? and multiply it by 2\", additional_kwargs={}, response_metadata={}, id='87f01a1d-d441-42ad-b802-73a9dd74092a'),\n",
       "  AIMessage(content='', additional_kwargs={'tool_calls': [{'id': 'call_vq4pcXmtcehwiIHXLbHJN0PA', 'function': {'arguments': '{}', 'name': 'transfer_to_research_expert'}, 'type': 'function'}], 'refusal': None}, response_metadata={'token_usage': {'completion_tokens': 14, 'prompt_tokens': 109, 'total_tokens': 123, 'completion_tokens_details': None, 'prompt_tokens_details': None}, 'model_name': 'gpt-4o-2024-05-13', 'system_fingerprint': 'fp_65792305e4', 'prompt_filter_results': [{'prompt_index': 0, 'content_filter_results': {'hate': {'filtered': False, 'severity': 'safe'}, 'jailbreak': {'filtered': False, 'detected': False}, 'self_harm': {'filtered': False, 'severity': 'safe'}, 'sexual': {'filtered': False, 'severity': 'safe'}, 'violence': {'filtered': False, 'severity': 'safe'}}}], 'finish_reason': 'tool_calls', 'logprobs': None, 'content_filter_results': {}}, name='supervisor', id='run-daf615a7-4995-4a25-85fe-e14fa8794937-0', tool_calls=[{'name': 'transfer_to_research_expert', 'args': {}, 'id': 'call_vq4pcXmtcehwiIHXLbHJN0PA', 'type': 'tool_call'}], usage_metadata={'input_tokens': 109, 'output_tokens': 14, 'total_tokens': 123, 'input_token_details': {}, 'output_token_details': {}}),\n",
       "  ToolMessage(content='Successfully transferred to research_expert', name='transfer_to_research_expert', id='2918e121-fb94-4e1e-a1be-9cc29f716b64', tool_call_id='call_vq4pcXmtcehwiIHXLbHJN0PA'),\n",
       "  AIMessage(content='', additional_kwargs={'tool_calls': [{'id': 'call_HILQFPvVU31oamWo0GmwQRAH', 'function': {'arguments': '{\"query\": \"total population of China in 2000\"}', 'name': 'web_search'}, 'type': 'function'}, {'id': 'call_A0Vbb9tKxAdeOXrjRlfQzJ2U', 'function': {'arguments': '{\"query\": \"total population of Japan in 2000\"}', 'name': 'web_search'}, 'type': 'function'}], 'refusal': None}, response_metadata={'token_usage': {'completion_tokens': 58, 'prompt_tokens': 112, 'total_tokens': 170, 'completion_tokens_details': None, 'prompt_tokens_details': None}, 'model_name': 'gpt-4o-2024-05-13', 'system_fingerprint': 'fp_65792305e4', 'prompt_filter_results': [{'prompt_index': 0, 'content_filter_results': {'hate': {'filtered': False, 'severity': 'safe'}, 'jailbreak': {'filtered': False, 'detected': False}, 'self_harm': {'filtered': False, 'severity': 'safe'}, 'sexual': {'filtered': False, 'severity': 'safe'}, 'violence': {'filtered': False, 'severity': 'safe'}}}], 'finish_reason': 'tool_calls', 'logprobs': None, 'content_filter_results': {}}, name='research_expert', id='run-e315be70-b979-4925-bdb0-f0f26c5d95c0-0', tool_calls=[{'name': 'web_search', 'args': {'query': 'total population of China in 2000'}, 'id': 'call_HILQFPvVU31oamWo0GmwQRAH', 'type': 'tool_call'}, {'name': 'web_search', 'args': {'query': 'total population of Japan in 2000'}, 'id': 'call_A0Vbb9tKxAdeOXrjRlfQzJ2U', 'type': 'tool_call'}], usage_metadata={'input_tokens': 112, 'output_tokens': 58, 'total_tokens': 170, 'input_token_details': {}, 'output_token_details': {}}),\n",
       "  ToolMessage(content='content=\\'\\' additional_kwargs={\\'tool_calls\\': [{\\'id\\': \\'call_amfo2kljjtTUmBgKDZ3XJfGs\\', \\'function\\': {\\'arguments\\': \\'{\"query\":\"total population of China in 2000\"}\\', \\'name\\': \\'tavily_search_results_json\\'}, \\'type\\': \\'function\\'}], \\'refusal\\': None} response_metadata={\\'token_usage\\': {\\'completion_tokens\\': 25, \\'prompt_tokens\\': 87, \\'total_tokens\\': 112, \\'completion_tokens_details\\': None, \\'prompt_tokens_details\\': None}, \\'model_name\\': \\'gpt-4o-2024-05-13\\', \\'system_fingerprint\\': \\'fp_65792305e4\\', \\'prompt_filter_results\\': [{\\'prompt_index\\': 0, \\'content_filter_results\\': {\\'hate\\': {\\'filtered\\': False, \\'severity\\': \\'safe\\'}, \\'jailbreak\\': {\\'filtered\\': False, \\'detected\\': False}, \\'self_harm\\': {\\'filtered\\': False, \\'severity\\': \\'safe\\'}, \\'sexual\\': {\\'filtered\\': False, \\'severity\\': \\'safe\\'}, \\'violence\\': {\\'filtered\\': False, \\'severity\\': \\'safe\\'}}}], \\'finish_reason\\': \\'tool_calls\\', \\'logprobs\\': None, \\'content_filter_results\\': {}} id=\\'run-fd50b996-1afa-44a0-b7a8-54bc8c05ecc6-0\\' tool_calls=[{\\'name\\': \\'tavily_search_results_json\\', \\'args\\': {\\'query\\': \\'total population of China in 2000\\'}, \\'id\\': \\'call_amfo2kljjtTUmBgKDZ3XJfGs\\', \\'type\\': \\'tool_call\\'}] usage_metadata={\\'input_tokens\\': 87, \\'output_tokens\\': 25, \\'total_tokens\\': 112, \\'input_token_details\\': {}, \\'output_token_details\\': {}}', name='web_search', id='eb22e3a5-bc8c-485a-862c-40b1f0f6b38b', tool_call_id='call_HILQFPvVU31oamWo0GmwQRAH'),\n",
       "  ToolMessage(content=\"content='The total population of Japan in the year 2000 was approximately 126.8 million people.' additional_kwargs={'refusal': None} response_metadata={'token_usage': {'completion_tokens': 21, 'prompt_tokens': 87, 'total_tokens': 108, 'completion_tokens_details': {'accepted_prediction_tokens': 0, 'audio_tokens': 0, 'reasoning_tokens': 0, 'rejected_prediction_tokens': 0}, 'prompt_tokens_details': {'audio_tokens': 0, 'cached_tokens': 0}}, 'model_name': 'gpt-4o-2024-05-13', 'system_fingerprint': 'fp_b705f0c291', 'prompt_filter_results': [{'prompt_index': 0, 'content_filter_results': {'hate': {'filtered': False, 'severity': 'safe'}, 'jailbreak': {'filtered': False, 'detected': False}, 'self_harm': {'filtered': False, 'severity': 'safe'}, 'sexual': {'filtered': False, 'severity': 'safe'}, 'violence': {'filtered': False, 'severity': 'safe'}}}], 'finish_reason': 'stop', 'logprobs': None, 'content_filter_results': {'hate': {'filtered': False, 'severity': 'safe'}, 'self_harm': {'filtered': False, 'severity': 'safe'}, 'sexual': {'filtered': False, 'severity': 'safe'}, 'violence': {'filtered': False, 'severity': 'safe'}}} id='run-d9a2b8d5-49e9-49ca-8577-b0d107f6e795-0' usage_metadata={'input_tokens': 87, 'output_tokens': 21, 'total_tokens': 108, 'input_token_details': {'audio': 0, 'cache_read': 0}, 'output_token_details': {'audio': 0, 'reasoning': 0}}\", name='web_search', id='7d884421-791f-4420-a1ef-60fd561f07c4', tool_call_id='call_A0Vbb9tKxAdeOXrjRlfQzJ2U'),\n",
       "  AIMessage(content='', additional_kwargs={'tool_calls': [{'id': 'call_3wtgoSMAv7gkfrsjNg7cUPnq', 'function': {'arguments': '{\"query\":\"total population of China in 2000\"}', 'name': 'web_search'}, 'type': 'function'}], 'refusal': None}, response_metadata={'token_usage': {'completion_tokens': 21, 'prompt_tokens': 984, 'total_tokens': 1005, 'completion_tokens_details': None, 'prompt_tokens_details': None}, 'model_name': 'gpt-4o-2024-05-13', 'system_fingerprint': 'fp_65792305e4', 'prompt_filter_results': [{'prompt_index': 0, 'content_filter_results': {'hate': {'filtered': False, 'severity': 'safe'}, 'jailbreak': {'filtered': False, 'detected': False}, 'self_harm': {'filtered': False, 'severity': 'safe'}, 'sexual': {'filtered': False, 'severity': 'safe'}, 'violence': {'filtered': False, 'severity': 'safe'}}}], 'finish_reason': 'tool_calls', 'logprobs': None, 'content_filter_results': {}}, name='research_expert', id='run-48554130-17c0-4ce3-baca-0e056da087d6-0', tool_calls=[{'name': 'web_search', 'args': {'query': 'total population of China in 2000'}, 'id': 'call_3wtgoSMAv7gkfrsjNg7cUPnq', 'type': 'tool_call'}], usage_metadata={'input_tokens': 984, 'output_tokens': 21, 'total_tokens': 1005, 'input_token_details': {}, 'output_token_details': {}}),\n",
       "  ToolMessage(content='content=\\'\\' additional_kwargs={\\'tool_calls\\': [{\\'id\\': \\'call_WQ4gfuF5L183gDBI5gteUa8t\\', \\'function\\': {\\'arguments\\': \\'{\"query\":\"total population of China in 2000\"}\\', \\'name\\': \\'tavily_search_results_json\\'}, \\'type\\': \\'function\\'}], \\'refusal\\': None} response_metadata={\\'token_usage\\': {\\'completion_tokens\\': 25, \\'prompt_tokens\\': 87, \\'total_tokens\\': 112, \\'completion_tokens_details\\': None, \\'prompt_tokens_details\\': None}, \\'model_name\\': \\'gpt-4o-2024-05-13\\', \\'system_fingerprint\\': \\'fp_65792305e4\\', \\'prompt_filter_results\\': [{\\'prompt_index\\': 0, \\'content_filter_results\\': {\\'hate\\': {\\'filtered\\': False, \\'severity\\': \\'safe\\'}, \\'jailbreak\\': {\\'filtered\\': False, \\'detected\\': False}, \\'self_harm\\': {\\'filtered\\': False, \\'severity\\': \\'safe\\'}, \\'sexual\\': {\\'filtered\\': False, \\'severity\\': \\'safe\\'}, \\'violence\\': {\\'filtered\\': False, \\'severity\\': \\'safe\\'}}}], \\'finish_reason\\': \\'tool_calls\\', \\'logprobs\\': None, \\'content_filter_results\\': {}} id=\\'run-25480ab6-ef51-41dc-934b-b2f774b6d384-0\\' tool_calls=[{\\'name\\': \\'tavily_search_results_json\\', \\'args\\': {\\'query\\': \\'total population of China in 2000\\'}, \\'id\\': \\'call_WQ4gfuF5L183gDBI5gteUa8t\\', \\'type\\': \\'tool_call\\'}] usage_metadata={\\'input_tokens\\': 87, \\'output_tokens\\': 25, \\'total_tokens\\': 112, \\'input_token_details\\': {}, \\'output_token_details\\': {}}', name='web_search', id='c033deef-04b2-4a01-8d67-e4eee6e70de0', tool_call_id='call_3wtgoSMAv7gkfrsjNg7cUPnq'),\n",
       "  AIMessage(content='The total population of Japan in the year 2000 was approximately 126.8 million people. I am still searching for the population of China in 2000.', additional_kwargs={'refusal': None}, response_metadata={'token_usage': {'completion_tokens': 35, 'prompt_tokens': 1404, 'total_tokens': 1439, 'completion_tokens_details': {'accepted_prediction_tokens': 0, 'audio_tokens': 0, 'reasoning_tokens': 0, 'rejected_prediction_tokens': 0}, 'prompt_tokens_details': {'audio_tokens': 0, 'cached_tokens': 0}}, 'model_name': 'gpt-4o-2024-05-13', 'system_fingerprint': 'fp_b705f0c291', 'prompt_filter_results': [{'prompt_index': 0, 'content_filter_results': {'hate': {'filtered': False, 'severity': 'safe'}, 'jailbreak': {'filtered': False, 'detected': False}, 'self_harm': {'filtered': False, 'severity': 'safe'}, 'sexual': {'filtered': False, 'severity': 'safe'}, 'violence': {'filtered': False, 'severity': 'safe'}}}], 'finish_reason': 'stop', 'logprobs': None, 'content_filter_results': {'hate': {'filtered': False, 'severity': 'safe'}, 'self_harm': {'filtered': False, 'severity': 'safe'}, 'sexual': {'filtered': False, 'severity': 'safe'}, 'violence': {'filtered': False, 'severity': 'safe'}}}, name='research_expert', id='run-4af47b60-5dce-44e5-841f-bbc39c2cb7ae-0', usage_metadata={'input_tokens': 1404, 'output_tokens': 35, 'total_tokens': 1439, 'input_token_details': {'audio': 0, 'cache_read': 0}, 'output_token_details': {'audio': 0, 'reasoning': 0}}),\n",
       "  AIMessage(content='Transferring back to supervisor', additional_kwargs={}, response_metadata={}, name='research_expert', id='aa9c4773-d1c1-402d-982b-c422cf0b42d1', tool_calls=[{'name': 'transfer_back_to_supervisor', 'args': {}, 'id': '2c6003ed-e001-4887-8080-0ded63260d15', 'type': 'tool_call'}]),\n",
       "  ToolMessage(content='Successfully transferred back to supervisor', name='transfer_back_to_supervisor', id='ee3de027-6794-49df-8a6f-a7a2269173b3', tool_call_id='2c6003ed-e001-4887-8080-0ded63260d15'),\n",
       "  AIMessage(content='', additional_kwargs={'tool_calls': [{'id': 'call_BS03yWWs5zZk7MjBxWYjEzZc', 'function': {'arguments': '{}', 'name': 'transfer_to_math_expert'}, 'type': 'function'}], 'refusal': None}, response_metadata={'token_usage': {'completion_tokens': 13, 'prompt_tokens': 1525, 'total_tokens': 1538, 'completion_tokens_details': None, 'prompt_tokens_details': None}, 'model_name': 'gpt-4o-2024-05-13', 'system_fingerprint': 'fp_65792305e4', 'prompt_filter_results': [{'prompt_index': 0, 'content_filter_results': {'hate': {'filtered': False, 'severity': 'safe'}, 'jailbreak': {'filtered': False, 'detected': False}, 'self_harm': {'filtered': False, 'severity': 'safe'}, 'sexual': {'filtered': False, 'severity': 'safe'}, 'violence': {'filtered': False, 'severity': 'safe'}}}], 'finish_reason': 'tool_calls', 'logprobs': None, 'content_filter_results': {}}, name='supervisor', id='run-cdbc3a36-01eb-4e5e-8315-0913dc843489-0', tool_calls=[{'name': 'transfer_to_math_expert', 'args': {}, 'id': 'call_BS03yWWs5zZk7MjBxWYjEzZc', 'type': 'tool_call'}], usage_metadata={'input_tokens': 1525, 'output_tokens': 13, 'total_tokens': 1538, 'input_token_details': {}, 'output_token_details': {}}),\n",
       "  ToolMessage(content='Successfully transferred to math_expert', name='transfer_to_math_expert', id='bfd2efad-d4d5-40b7-9f9b-a9123b447f5b', tool_call_id='call_BS03yWWs5zZk7MjBxWYjEzZc'),\n",
       "  AIMessage(content=\"I have the data for Japan's total population in 2000, which was approximately 126.8 million. I will add this to the total population of China in 2000 once I fetch it.\\n\\nLet's find the population of China in 2000 first.\", additional_kwargs={'tool_calls': [{'id': 'call_YBbddp4BqqAk27IdxQpCWDi2', 'function': {'arguments': '{\"query\":\"total population of China in 2000\"}', 'name': 'web_search'}, 'type': 'function'}], 'refusal': None}, response_metadata={'token_usage': {'completion_tokens': 76, 'prompt_tokens': 1552, 'total_tokens': 1628, 'completion_tokens_details': None, 'prompt_tokens_details': None}, 'model_name': 'gpt-4o-2024-05-13', 'system_fingerprint': 'fp_65792305e4', 'prompt_filter_results': [{'prompt_index': 0, 'content_filter_results': {'hate': {'filtered': False, 'severity': 'safe'}, 'jailbreak': {'filtered': False, 'detected': False}, 'self_harm': {'filtered': False, 'severity': 'safe'}, 'sexual': {'filtered': False, 'severity': 'safe'}, 'violence': {'filtered': False, 'severity': 'safe'}}}], 'finish_reason': 'tool_calls', 'logprobs': None, 'content_filter_results': {'hate': {'filtered': False, 'severity': 'safe'}, 'self_harm': {'filtered': False, 'severity': 'safe'}, 'sexual': {'filtered': False, 'severity': 'safe'}, 'violence': {'filtered': False, 'severity': 'safe'}}}, name='math_expert', id='run-3ad5425e-1c8c-42e9-843b-7afa6f3704f3-0', tool_calls=[{'name': 'web_search', 'args': {'query': 'total population of China in 2000'}, 'id': 'call_YBbddp4BqqAk27IdxQpCWDi2', 'type': 'tool_call'}], usage_metadata={'input_tokens': 1552, 'output_tokens': 76, 'total_tokens': 1628, 'input_token_details': {}, 'output_token_details': {}}),\n",
       "  ToolMessage(content='Error: web_search is not a valid tool, try one of [add, multiply].', name='web_search', id='e1be26ee-bbc5-4c2b-a07b-591812f760f0', tool_call_id='call_YBbddp4BqqAk27IdxQpCWDi2', status='error'),\n",
       "  AIMessage(content='', additional_kwargs={'tool_calls': [{'id': 'call_aw0ftMzvHENXBEjRgiegM6sJ', 'function': {'arguments': '{\"query\": \"total population of China in 2000\"}', 'name': 'web_search'}, 'type': 'function'}], 'refusal': None}, response_metadata={'token_usage': {'completion_tokens': 37, 'prompt_tokens': 1665, 'total_tokens': 1702, 'completion_tokens_details': None, 'prompt_tokens_details': None}, 'model_name': 'gpt-4o-2024-05-13', 'system_fingerprint': 'fp_65792305e4', 'prompt_filter_results': [{'prompt_index': 0, 'content_filter_results': {'hate': {'filtered': False, 'severity': 'safe'}, 'jailbreak': {'filtered': False, 'detected': False}, 'self_harm': {'filtered': False, 'severity': 'safe'}, 'sexual': {'filtered': False, 'severity': 'safe'}, 'violence': {'filtered': False, 'severity': 'safe'}}}], 'finish_reason': 'tool_calls', 'logprobs': None, 'content_filter_results': {}}, name='math_expert', id='run-cb480149-c400-44e4-b0b7-bcf834711b02-0', tool_calls=[{'name': 'web_search', 'args': {'query': 'total population of China in 2000'}, 'id': 'call_aw0ftMzvHENXBEjRgiegM6sJ', 'type': 'tool_call'}], usage_metadata={'input_tokens': 1665, 'output_tokens': 37, 'total_tokens': 1702, 'input_token_details': {}, 'output_token_details': {}}),\n",
       "  ToolMessage(content='Error: web_search is not a valid tool, try one of [add, multiply].', name='web_search', id='4ed4b836-1dea-4403-9769-d1e554c08a37', tool_call_id='call_aw0ftMzvHENXBEjRgiegM6sJ', status='error'),\n",
       "  AIMessage(content=\"We already have Japan's population for 2000: 126.8 million.\\n\\nFor China, the population in 2000 was approximately 1.26 billion (1260 million).\\n\\n1. Add 126.8 million (Japan) to 1260 million (China).\\n2. Multiply their total by 2.\\n\\nLet's perform the calculations.\\n\\nFirst, add 126.8 million to 1260 million.\", additional_kwargs={'tool_calls': [{'id': 'call_v9rqfh9mJ7kUqpjbyrZq1wdD', 'function': {'arguments': '{\"a\":1260,\"b\":126.8}', 'name': 'add'}, 'type': 'function'}], 'refusal': None}, response_metadata={'token_usage': {'completion_tokens': 106, 'prompt_tokens': 1716, 'total_tokens': 1822, 'completion_tokens_details': None, 'prompt_tokens_details': None}, 'model_name': 'gpt-4o-2024-05-13', 'system_fingerprint': 'fp_65792305e4', 'prompt_filter_results': [{'prompt_index': 0, 'content_filter_results': {'hate': {'filtered': False, 'severity': 'safe'}, 'jailbreak': {'filtered': False, 'detected': False}, 'self_harm': {'filtered': False, 'severity': 'safe'}, 'sexual': {'filtered': False, 'severity': 'safe'}, 'violence': {'filtered': False, 'severity': 'safe'}}}], 'finish_reason': 'tool_calls', 'logprobs': None, 'content_filter_results': {'hate': {'filtered': False, 'severity': 'safe'}, 'protected_material_code': {'filtered': False, 'detected': False}, 'protected_material_text': {'filtered': False, 'detected': False}, 'self_harm': {'filtered': False, 'severity': 'safe'}, 'sexual': {'filtered': False, 'severity': 'safe'}, 'violence': {'filtered': False, 'severity': 'safe'}}}, name='math_expert', id='run-1a5cd5cf-e98e-45ce-9891-ad780c8b8158-0', tool_calls=[{'name': 'add', 'args': {'a': 1260, 'b': 126.8}, 'id': 'call_v9rqfh9mJ7kUqpjbyrZq1wdD', 'type': 'tool_call'}], usage_metadata={'input_tokens': 1716, 'output_tokens': 106, 'total_tokens': 1822, 'input_token_details': {}, 'output_token_details': {}}),\n",
       "  ToolMessage(content='1386.8', name='add', id='1ea11785-a682-4302-a229-8162bcd19abd', tool_call_id='call_v9rqfh9mJ7kUqpjbyrZq1wdD'),\n",
       "  AIMessage(content='', additional_kwargs={'tool_calls': [{'id': 'call_3QJ1J79QP7V11RKZ8HH5h45A', 'function': {'arguments': '{\"a\":1386.8,\"b\":2}', 'name': 'multiply'}, 'type': 'function'}], 'refusal': None}, response_metadata={'token_usage': {'completion_tokens': 20, 'prompt_tokens': 1844, 'total_tokens': 1864, 'completion_tokens_details': None, 'prompt_tokens_details': None}, 'model_name': 'gpt-4o-2024-05-13', 'system_fingerprint': 'fp_65792305e4', 'prompt_filter_results': [{'prompt_index': 0, 'content_filter_results': {'hate': {'filtered': False, 'severity': 'safe'}, 'jailbreak': {'filtered': False, 'detected': False}, 'self_harm': {'filtered': False, 'severity': 'safe'}, 'sexual': {'filtered': False, 'severity': 'safe'}, 'violence': {'filtered': False, 'severity': 'safe'}}}], 'finish_reason': 'tool_calls', 'logprobs': None, 'content_filter_results': {}}, name='math_expert', id='run-72bd2e34-7da3-424d-9cbe-aa62919c0dfa-0', tool_calls=[{'name': 'multiply', 'args': {'a': 1386.8, 'b': 2}, 'id': 'call_3QJ1J79QP7V11RKZ8HH5h45A', 'type': 'tool_call'}], usage_metadata={'input_tokens': 1844, 'output_tokens': 20, 'total_tokens': 1864, 'input_token_details': {}, 'output_token_details': {}}),\n",
       "  ToolMessage(content='2773.6', name='multiply', id='18b57a72-0c32-49f9-8fa4-3e930723e634', tool_call_id='call_3QJ1J79QP7V11RKZ8HH5h45A'),\n",
       "  AIMessage(content='The total population of China and Japan in the year 2000, when multiplied by 2, is approximately 2773.6 million people.', additional_kwargs={'refusal': None}, response_metadata={'token_usage': {'completion_tokens': 31, 'prompt_tokens': 1879, 'total_tokens': 1910, 'completion_tokens_details': {'accepted_prediction_tokens': 0, 'audio_tokens': 0, 'reasoning_tokens': 0, 'rejected_prediction_tokens': 0}, 'prompt_tokens_details': {'audio_tokens': 0, 'cached_tokens': 0}}, 'model_name': 'gpt-4o-2024-05-13', 'system_fingerprint': 'fp_b705f0c291', 'prompt_filter_results': [{'prompt_index': 0, 'content_filter_results': {'hate': {'filtered': False, 'severity': 'safe'}, 'jailbreak': {'filtered': False, 'detected': False}, 'self_harm': {'filtered': False, 'severity': 'safe'}, 'sexual': {'filtered': False, 'severity': 'safe'}, 'violence': {'filtered': False, 'severity': 'safe'}}}], 'finish_reason': 'stop', 'logprobs': None, 'content_filter_results': {'hate': {'filtered': False, 'severity': 'safe'}, 'self_harm': {'filtered': False, 'severity': 'safe'}, 'sexual': {'filtered': False, 'severity': 'safe'}, 'violence': {'filtered': False, 'severity': 'safe'}}}, name='math_expert', id='run-ae6ff8ab-779c-444f-8da6-7a772b7e3a00-0', usage_metadata={'input_tokens': 1879, 'output_tokens': 31, 'total_tokens': 1910, 'input_token_details': {'audio': 0, 'cache_read': 0}, 'output_token_details': {'audio': 0, 'reasoning': 0}}),\n",
       "  AIMessage(content='Transferring back to supervisor', additional_kwargs={}, response_metadata={}, name='math_expert', id='618d264d-8c28-4b16-94fd-07642f96f7e0', tool_calls=[{'name': 'transfer_back_to_supervisor', 'args': {}, 'id': '4c6ea83f-2053-4e5e-bbbc-c040e2ee090e', 'type': 'tool_call'}]),\n",
       "  ToolMessage(content='Successfully transferred back to supervisor', name='transfer_back_to_supervisor', id='ae74414e-6fc9-45ef-8660-0f2befd539ef', tool_call_id='4c6ea83f-2053-4e5e-bbbc-c040e2ee090e'),\n",
       "  AIMessage(content='The total population of China and Japan in the year 2000, when added together and multiplied by 2, is approximately 2773.6 million people.', additional_kwargs={'refusal': None}, response_metadata={'token_usage': {'completion_tokens': 34, 'prompt_tokens': 1970, 'total_tokens': 2004, 'completion_tokens_details': {'accepted_prediction_tokens': 0, 'audio_tokens': 0, 'reasoning_tokens': 0, 'rejected_prediction_tokens': 0}, 'prompt_tokens_details': {'audio_tokens': 0, 'cached_tokens': 0}}, 'model_name': 'gpt-4o-2024-05-13', 'system_fingerprint': 'fp_b705f0c291', 'prompt_filter_results': [{'prompt_index': 0, 'content_filter_results': {'hate': {'filtered': False, 'severity': 'safe'}, 'jailbreak': {'filtered': False, 'detected': False}, 'self_harm': {'filtered': False, 'severity': 'safe'}, 'sexual': {'filtered': False, 'severity': 'safe'}, 'violence': {'filtered': False, 'severity': 'safe'}}}], 'finish_reason': 'stop', 'logprobs': None, 'content_filter_results': {'hate': {'filtered': False, 'severity': 'safe'}, 'self_harm': {'filtered': False, 'severity': 'safe'}, 'sexual': {'filtered': False, 'severity': 'safe'}, 'violence': {'filtered': False, 'severity': 'safe'}}}, name='supervisor', id='run-b01a5894-d60f-43bd-9760-7e87e3d57221-0', usage_metadata={'input_tokens': 1970, 'output_tokens': 34, 'total_tokens': 2004, 'input_token_details': {'audio': 0, 'cache_read': 0}, 'output_token_details': {'audio': 0, 'reasoning': 0}})]}"
      ]
     },
     "execution_count": 44,
     "metadata": {},
     "output_type": "execute_result"
    }
   ],
   "source": [
    "result"
   ]
  },
  {
   "cell_type": "code",
   "execution_count": 45,
   "metadata": {},
   "outputs": [
    {
     "name": "stdout",
     "output_type": "stream",
     "text": [
      "================================\u001b[1m Human Message \u001b[0m=================================\n",
      "\n",
      "what's the total population of China and japan in 2000? and multiply it by 2\n",
      "==================================\u001b[1m Ai Message \u001b[0m==================================\n",
      "Name: supervisor\n",
      "Tool Calls:\n",
      "  transfer_to_research_expert (call_vq4pcXmtcehwiIHXLbHJN0PA)\n",
      " Call ID: call_vq4pcXmtcehwiIHXLbHJN0PA\n",
      "  Args:\n",
      "=================================\u001b[1m Tool Message \u001b[0m=================================\n",
      "Name: transfer_to_research_expert\n",
      "\n",
      "Successfully transferred to research_expert\n",
      "==================================\u001b[1m Ai Message \u001b[0m==================================\n",
      "Name: research_expert\n",
      "Tool Calls:\n",
      "  web_search (call_HILQFPvVU31oamWo0GmwQRAH)\n",
      " Call ID: call_HILQFPvVU31oamWo0GmwQRAH\n",
      "  Args:\n",
      "    query: total population of China in 2000\n",
      "  web_search (call_A0Vbb9tKxAdeOXrjRlfQzJ2U)\n",
      " Call ID: call_A0Vbb9tKxAdeOXrjRlfQzJ2U\n",
      "  Args:\n",
      "    query: total population of Japan in 2000\n",
      "=================================\u001b[1m Tool Message \u001b[0m=================================\n",
      "Name: web_search\n",
      "\n",
      "content='' additional_kwargs={'tool_calls': [{'id': 'call_amfo2kljjtTUmBgKDZ3XJfGs', 'function': {'arguments': '{\"query\":\"total population of China in 2000\"}', 'name': 'tavily_search_results_json'}, 'type': 'function'}], 'refusal': None} response_metadata={'token_usage': {'completion_tokens': 25, 'prompt_tokens': 87, 'total_tokens': 112, 'completion_tokens_details': None, 'prompt_tokens_details': None}, 'model_name': 'gpt-4o-2024-05-13', 'system_fingerprint': 'fp_65792305e4', 'prompt_filter_results': [{'prompt_index': 0, 'content_filter_results': {'hate': {'filtered': False, 'severity': 'safe'}, 'jailbreak': {'filtered': False, 'detected': False}, 'self_harm': {'filtered': False, 'severity': 'safe'}, 'sexual': {'filtered': False, 'severity': 'safe'}, 'violence': {'filtered': False, 'severity': 'safe'}}}], 'finish_reason': 'tool_calls', 'logprobs': None, 'content_filter_results': {}} id='run-fd50b996-1afa-44a0-b7a8-54bc8c05ecc6-0' tool_calls=[{'name': 'tavily_search_results_json', 'args': {'query': 'total population of China in 2000'}, 'id': 'call_amfo2kljjtTUmBgKDZ3XJfGs', 'type': 'tool_call'}] usage_metadata={'input_tokens': 87, 'output_tokens': 25, 'total_tokens': 112, 'input_token_details': {}, 'output_token_details': {}}\n",
      "=================================\u001b[1m Tool Message \u001b[0m=================================\n",
      "Name: web_search\n",
      "\n",
      "content='The total population of Japan in the year 2000 was approximately 126.8 million people.' additional_kwargs={'refusal': None} response_metadata={'token_usage': {'completion_tokens': 21, 'prompt_tokens': 87, 'total_tokens': 108, 'completion_tokens_details': {'accepted_prediction_tokens': 0, 'audio_tokens': 0, 'reasoning_tokens': 0, 'rejected_prediction_tokens': 0}, 'prompt_tokens_details': {'audio_tokens': 0, 'cached_tokens': 0}}, 'model_name': 'gpt-4o-2024-05-13', 'system_fingerprint': 'fp_b705f0c291', 'prompt_filter_results': [{'prompt_index': 0, 'content_filter_results': {'hate': {'filtered': False, 'severity': 'safe'}, 'jailbreak': {'filtered': False, 'detected': False}, 'self_harm': {'filtered': False, 'severity': 'safe'}, 'sexual': {'filtered': False, 'severity': 'safe'}, 'violence': {'filtered': False, 'severity': 'safe'}}}], 'finish_reason': 'stop', 'logprobs': None, 'content_filter_results': {'hate': {'filtered': False, 'severity': 'safe'}, 'self_harm': {'filtered': False, 'severity': 'safe'}, 'sexual': {'filtered': False, 'severity': 'safe'}, 'violence': {'filtered': False, 'severity': 'safe'}}} id='run-d9a2b8d5-49e9-49ca-8577-b0d107f6e795-0' usage_metadata={'input_tokens': 87, 'output_tokens': 21, 'total_tokens': 108, 'input_token_details': {'audio': 0, 'cache_read': 0}, 'output_token_details': {'audio': 0, 'reasoning': 0}}\n",
      "==================================\u001b[1m Ai Message \u001b[0m==================================\n",
      "Name: research_expert\n",
      "Tool Calls:\n",
      "  web_search (call_3wtgoSMAv7gkfrsjNg7cUPnq)\n",
      " Call ID: call_3wtgoSMAv7gkfrsjNg7cUPnq\n",
      "  Args:\n",
      "    query: total population of China in 2000\n",
      "=================================\u001b[1m Tool Message \u001b[0m=================================\n",
      "Name: web_search\n",
      "\n",
      "content='' additional_kwargs={'tool_calls': [{'id': 'call_WQ4gfuF5L183gDBI5gteUa8t', 'function': {'arguments': '{\"query\":\"total population of China in 2000\"}', 'name': 'tavily_search_results_json'}, 'type': 'function'}], 'refusal': None} response_metadata={'token_usage': {'completion_tokens': 25, 'prompt_tokens': 87, 'total_tokens': 112, 'completion_tokens_details': None, 'prompt_tokens_details': None}, 'model_name': 'gpt-4o-2024-05-13', 'system_fingerprint': 'fp_65792305e4', 'prompt_filter_results': [{'prompt_index': 0, 'content_filter_results': {'hate': {'filtered': False, 'severity': 'safe'}, 'jailbreak': {'filtered': False, 'detected': False}, 'self_harm': {'filtered': False, 'severity': 'safe'}, 'sexual': {'filtered': False, 'severity': 'safe'}, 'violence': {'filtered': False, 'severity': 'safe'}}}], 'finish_reason': 'tool_calls', 'logprobs': None, 'content_filter_results': {}} id='run-25480ab6-ef51-41dc-934b-b2f774b6d384-0' tool_calls=[{'name': 'tavily_search_results_json', 'args': {'query': 'total population of China in 2000'}, 'id': 'call_WQ4gfuF5L183gDBI5gteUa8t', 'type': 'tool_call'}] usage_metadata={'input_tokens': 87, 'output_tokens': 25, 'total_tokens': 112, 'input_token_details': {}, 'output_token_details': {}}\n",
      "==================================\u001b[1m Ai Message \u001b[0m==================================\n",
      "Name: research_expert\n",
      "\n",
      "The total population of Japan in the year 2000 was approximately 126.8 million people. I am still searching for the population of China in 2000.\n",
      "==================================\u001b[1m Ai Message \u001b[0m==================================\n",
      "Name: research_expert\n",
      "\n",
      "Transferring back to supervisor\n",
      "Tool Calls:\n",
      "  transfer_back_to_supervisor (2c6003ed-e001-4887-8080-0ded63260d15)\n",
      " Call ID: 2c6003ed-e001-4887-8080-0ded63260d15\n",
      "  Args:\n",
      "=================================\u001b[1m Tool Message \u001b[0m=================================\n",
      "Name: transfer_back_to_supervisor\n",
      "\n",
      "Successfully transferred back to supervisor\n",
      "==================================\u001b[1m Ai Message \u001b[0m==================================\n",
      "Name: supervisor\n",
      "Tool Calls:\n",
      "  transfer_to_math_expert (call_BS03yWWs5zZk7MjBxWYjEzZc)\n",
      " Call ID: call_BS03yWWs5zZk7MjBxWYjEzZc\n",
      "  Args:\n",
      "=================================\u001b[1m Tool Message \u001b[0m=================================\n",
      "Name: transfer_to_math_expert\n",
      "\n",
      "Successfully transferred to math_expert\n",
      "==================================\u001b[1m Ai Message \u001b[0m==================================\n",
      "Name: math_expert\n",
      "\n",
      "I have the data for Japan's total population in 2000, which was approximately 126.8 million. I will add this to the total population of China in 2000 once I fetch it.\n",
      "\n",
      "Let's find the population of China in 2000 first.\n",
      "Tool Calls:\n",
      "  web_search (call_YBbddp4BqqAk27IdxQpCWDi2)\n",
      " Call ID: call_YBbddp4BqqAk27IdxQpCWDi2\n",
      "  Args:\n",
      "    query: total population of China in 2000\n",
      "=================================\u001b[1m Tool Message \u001b[0m=================================\n",
      "Name: web_search\n",
      "\n",
      "Error: web_search is not a valid tool, try one of [add, multiply].\n",
      "==================================\u001b[1m Ai Message \u001b[0m==================================\n",
      "Name: math_expert\n",
      "Tool Calls:\n",
      "  web_search (call_aw0ftMzvHENXBEjRgiegM6sJ)\n",
      " Call ID: call_aw0ftMzvHENXBEjRgiegM6sJ\n",
      "  Args:\n",
      "    query: total population of China in 2000\n",
      "=================================\u001b[1m Tool Message \u001b[0m=================================\n",
      "Name: web_search\n",
      "\n",
      "Error: web_search is not a valid tool, try one of [add, multiply].\n",
      "==================================\u001b[1m Ai Message \u001b[0m==================================\n",
      "Name: math_expert\n",
      "\n",
      "We already have Japan's population for 2000: 126.8 million.\n",
      "\n",
      "For China, the population in 2000 was approximately 1.26 billion (1260 million).\n",
      "\n",
      "1. Add 126.8 million (Japan) to 1260 million (China).\n",
      "2. Multiply their total by 2.\n",
      "\n",
      "Let's perform the calculations.\n",
      "\n",
      "First, add 126.8 million to 1260 million.\n",
      "Tool Calls:\n",
      "  add (call_v9rqfh9mJ7kUqpjbyrZq1wdD)\n",
      " Call ID: call_v9rqfh9mJ7kUqpjbyrZq1wdD\n",
      "  Args:\n",
      "    a: 1260\n",
      "    b: 126.8\n",
      "=================================\u001b[1m Tool Message \u001b[0m=================================\n",
      "Name: add\n",
      "\n",
      "1386.8\n",
      "==================================\u001b[1m Ai Message \u001b[0m==================================\n",
      "Name: math_expert\n",
      "Tool Calls:\n",
      "  multiply (call_3QJ1J79QP7V11RKZ8HH5h45A)\n",
      " Call ID: call_3QJ1J79QP7V11RKZ8HH5h45A\n",
      "  Args:\n",
      "    a: 1386.8\n",
      "    b: 2\n",
      "=================================\u001b[1m Tool Message \u001b[0m=================================\n",
      "Name: multiply\n",
      "\n",
      "2773.6\n",
      "==================================\u001b[1m Ai Message \u001b[0m==================================\n",
      "Name: math_expert\n",
      "\n",
      "The total population of China and Japan in the year 2000, when multiplied by 2, is approximately 2773.6 million people.\n",
      "==================================\u001b[1m Ai Message \u001b[0m==================================\n",
      "Name: math_expert\n",
      "\n",
      "Transferring back to supervisor\n",
      "Tool Calls:\n",
      "  transfer_back_to_supervisor (4c6ea83f-2053-4e5e-bbbc-c040e2ee090e)\n",
      " Call ID: 4c6ea83f-2053-4e5e-bbbc-c040e2ee090e\n",
      "  Args:\n",
      "=================================\u001b[1m Tool Message \u001b[0m=================================\n",
      "Name: transfer_back_to_supervisor\n",
      "\n",
      "Successfully transferred back to supervisor\n",
      "==================================\u001b[1m Ai Message \u001b[0m==================================\n",
      "Name: supervisor\n",
      "\n",
      "The total population of China and Japan in the year 2000, when added together and multiplied by 2, is approximately 2773.6 million people.\n"
     ]
    }
   ],
   "source": [
    "for m in result['messages']:\n",
    "    m.pretty_print()"
   ]
  },
  {
   "cell_type": "markdown",
   "metadata": {},
   "source": [
    "# Hierarchical Agents"
   ]
  },
  {
   "cell_type": "code",
   "execution_count": 46,
   "metadata": {},
   "outputs": [],
   "source": [
    "from typing import Literal\n",
    "\n",
    "def get_precipitation(location: Literal[\"sf\", \"nyc\"]):\n",
    "    \"\"\"Get precipiration forecast for location\"\"\"\n",
    "    if location == \"sf\":\n",
    "        return \"will be raining\" \n",
    "    elif location == \"nyc\":\n",
    "        return \"will be sunny\"\n",
    "    else:\n",
    "        raise ValueError()\n",
    "    \n",
    "def get_temperature(location: Literal[\"sf\", \"nyc\"]):\n",
    "    \"\"\"Get temperature forcase for location\"\"\"\n",
    "    if location == \"sf\":\n",
    "        return \"will be 30 degrees\"\n",
    "    elif location == \"nyc\":\n",
    "        return \"will be 80 degrees\"\n",
    "    else:\n",
    "        raise ValueError()"
   ]
  },
  {
   "cell_type": "code",
   "execution_count": 48,
   "metadata": {},
   "outputs": [],
   "source": [
    "weather_team = [\n",
    "    create_react_agent(\n",
    "        model=llm,\n",
    "        tools=[get_precipitation],\n",
    "        name=\"percipitation_expert\",\n",
    "        prompt=\"You are a percipitation expert. Only work on percipitaiton forecast\"\n",
    "    ),\n",
    "    create_react_agent(\n",
    "        model=llm,\n",
    "        tools=[get_temperature],\n",
    "        name=\"temperature_expert\",\n",
    "        prompt=\"You are a temperature expert. Only work on temperature forecast.\"\n",
    "    )\n",
    "]"
   ]
  },
  {
   "cell_type": "code",
   "execution_count": 47,
   "metadata": {},
   "outputs": [],
   "source": [
    "math_team = [\n",
    "    create_react_agent(\n",
    "        model=llm,\n",
    "        tools=[add],\n",
    "        name=\"additional_expert\",\n",
    "        prompt=\"You are a additional expert. Only work on addition, DO NOT attempt to solve \\\n",
    "            the full problem if it requires other expertise.\"\n",
    "    ),\n",
    "    create_react_agent(\n",
    "        model=llm,\n",
    "        tools=[multiply],\n",
    "        name=\"multiplication_expert\",\n",
    "        prompt=\"You are a multiplication expert. Only work on multiplication, DO NOT attempt \\\n",
    "            to solve the full problem if it requires other expertise.\"\n",
    "    )\n",
    "]"
   ]
  },
  {
   "cell_type": "code",
   "execution_count": 49,
   "metadata": {},
   "outputs": [],
   "source": [
    "math_supervisor = create_supervisor(\n",
    "    agents=math_team,\n",
    "    model=llm,\n",
    "    prompt=\"You are a team supervisor, tasked with managing a multiplication expert and an addition expert.\",\n",
    "    supervisor_name=\"math_supervisor\",\n",
    ").compile(name = \"math_team\")\n",
    "\n",
    "weather_supervisor = create_supervisor(\n",
    "    agents=weather_team,\n",
    "    model=llm,\n",
    "    prompt=(\n",
    "        \"\"\" You are a weather forecast expert, tasked with managing temperatre forecast expert and a \\\n",
    "            percipitation forecast  expert.\n",
    "            Don't ask for clarifications.\n",
    "            Always respond to the user with the weather forecast according to your team experts.\n",
    "            DO NOT make up answer -- ask experts!\n",
    "            You MUST ALWAYS respond to the user with the final answer, do not respond with empty text.\n",
    "        \"\"\"\n",
    "    ),\n",
    "    supervisor_name=\"weather_supervisor\",\n",
    ").compile(name=\"weather_team\")\n",
    "\n",
    "hieararchical_supervisor = create_supervisor(\n",
    "    agents=[math_supervisor, weather_supervisor],\n",
    "    supervisor_name=\"top_level_supervisor\",\n",
    "    model=llm,\n",
    "    prompt=\"You are a team supervisor, tasked with managing a weather expert and a math expert. \\\n",
    "        Once you have the answer to the user's question finish\"\n",
    ").compile()"
   ]
  },
  {
   "cell_type": "code",
   "execution_count": 52,
   "metadata": {},
   "outputs": [],
   "source": [
    "message = hieararchical_supervisor.invoke({\"messages\": [(\"user\", \"What's the weather in nyc?\")]})"
   ]
  },
  {
   "cell_type": "code",
   "execution_count": 53,
   "metadata": {},
   "outputs": [
    {
     "name": "stdout",
     "output_type": "stream",
     "text": [
      "================================\u001b[1m Human Message \u001b[0m=================================\n",
      "\n",
      "What's the weather in nyc?\n",
      "==================================\u001b[1m Ai Message \u001b[0m==================================\n",
      "Name: top_level_supervisor\n",
      "Tool Calls:\n",
      "  transfer_to_weather_team (call_ZOvIblWIaLZaaQneWiB16kFG)\n",
      " Call ID: call_ZOvIblWIaLZaaQneWiB16kFG\n",
      "  Args:\n",
      "=================================\u001b[1m Tool Message \u001b[0m=================================\n",
      "Name: transfer_to_weather_team\n",
      "\n",
      "Successfully transferred to weather_team\n",
      "==================================\u001b[1m Ai Message \u001b[0m==================================\n",
      "Name: weather_supervisor\n",
      "\n",
      "The weather in NYC will be sunny with a temperature of 80 degrees.\n",
      "==================================\u001b[1m Ai Message \u001b[0m==================================\n",
      "Name: weather_team\n",
      "\n",
      "Transferring back to top_level_supervisor\n",
      "Tool Calls:\n",
      "  transfer_back_to_top_level_supervisor (4c9b4300-7b28-4a61-8bd6-c376cae33022)\n",
      " Call ID: 4c9b4300-7b28-4a61-8bd6-c376cae33022\n",
      "  Args:\n",
      "=================================\u001b[1m Tool Message \u001b[0m=================================\n",
      "Name: transfer_back_to_top_level_supervisor\n",
      "\n",
      "Successfully transferred back to top_level_supervisor\n",
      "==================================\u001b[1m Ai Message \u001b[0m==================================\n",
      "Name: top_level_supervisor\n",
      "\n",
      "The weather in NYC will be sunny with a temperature of 80 degrees.\n"
     ]
    }
   ],
   "source": [
    "for m in message['messages']:\n",
    "    m.pretty_print()"
   ]
  },
  {
   "cell_type": "code",
   "execution_count": null,
   "metadata": {},
   "outputs": [],
   "source": []
  }
 ],
 "metadata": {
  "kernelspec": {
   "display_name": "langgraph",
   "language": "python",
   "name": "python3"
  },
  "language_info": {
   "codemirror_mode": {
    "name": "ipython",
    "version": 3
   },
   "file_extension": ".py",
   "mimetype": "text/x-python",
   "name": "python",
   "nbconvert_exporter": "python",
   "pygments_lexer": "ipython3",
   "version": "3.12.0"
  }
 },
 "nbformat": 4,
 "nbformat_minor": 2
}
