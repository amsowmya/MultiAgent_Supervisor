{
 "cells": [
  {
   "cell_type": "code",
   "execution_count": 17,
   "metadata": {},
   "outputs": [
    {
     "data": {
      "text/plain": [
       "True"
      ]
     },
     "execution_count": 17,
     "metadata": {},
     "output_type": "execute_result"
    }
   ],
   "source": [
    "from dotenv import  load_dotenv\n",
    "import os \n",
    "\n",
    "from langchain_openai import  AzureChatOpenAI\n",
    "\n",
    "load_dotenv()"
   ]
  },
  {
   "cell_type": "code",
   "execution_count": 18,
   "metadata": {},
   "outputs": [
    {
     "data": {
      "text/plain": [
       "'Hello! How can I assist you today?'"
      ]
     },
     "execution_count": 18,
     "metadata": {},
     "output_type": "execute_result"
    }
   ],
   "source": [
    "os.environ['AZURE_OPENAI_API_KEY'] = os.getenv('AZURE_OPENAI_API_KEY')\n",
    "\n",
    "llm = AzureChatOpenAI(\n",
    "    api_version=os.getenv('AZURE_OPENAI_API_VERSION'),\n",
    "    azure_deployment=os.getenv('AZURE_OPENAI_DEPLOYMENT'),\n",
    "    azure_endpoint=os.getenv('AZURE_OPENAI_ENDPOINT'),\n",
    ")\n",
    "\n",
    "llm.invoke(\"hi\").content"
   ]
  },
  {
   "cell_type": "code",
   "execution_count": 19,
   "metadata": {},
   "outputs": [],
   "source": [
    "from langgraph.prebuilt import create_react_agent"
   ]
  },
  {
   "cell_type": "code",
   "execution_count": 20,
   "metadata": {},
   "outputs": [],
   "source": [
    "import requests\n",
    "\n",
    "def claims_api(claimid: str):\n",
    "  \"\"\"You are a data domain specialist who has capability of providing information on any claim based on 'claim id'.\n",
    "  No consent is required for fetching the claim details \"\"\"\n",
    "  print(\"---CLAIMS API---\")\n",
    "\n",
    "  url = f\"https://mock-qxi.azurewebsites.net/data/claim/\"+claimid.upper()\n",
    "\n",
    "  try:\n",
    "    response = requests.get(url)\n",
    "\n",
    "    if response.status_code == 200:\n",
    "      content = response.json()\n",
    "      return content\n",
    "    else:\n",
    "      print(\"Error: \", response.status_code)\n",
    "      return None\n",
    "  except requests.exceptions.RequestException as e:\n",
    "    print(\"Error: \", e)\n",
    "    return None"
   ]
  },
  {
   "cell_type": "code",
   "execution_count": 21,
   "metadata": {},
   "outputs": [],
   "source": [
    "def members_api(mem_id: str):\n",
    "  \"\"\"You are a data domain specialist who has capability of providing information on any members based on 'member id'.\n",
    "  No consent is required for fetching the claim details \"\"\"\n",
    "  print(\"---MEMBERS API---\")\n",
    "\n",
    "  url = \"https://mock-qxi.azurewebsites.net/data/profile/\" + mem_id.upper()\n",
    "\n",
    "  try:\n",
    "    response = requests.get(url)\n",
    "\n",
    "    if response.status_code == 200:\n",
    "      content = response.json()\n",
    "      return content\n",
    "    else:\n",
    "      print(\"Error: \", response.status_code)\n",
    "      return None\n",
    "  except requests.exceptions.RequestException as e:\n",
    "    print(\"Error: \", e)\n",
    "    return None"
   ]
  },
  {
   "cell_type": "code",
   "execution_count": 22,
   "metadata": {},
   "outputs": [],
   "source": [
    "from langchain_community.utilities import SQLDatabase\n",
    "from langchain_community.agent_toolkits import SQLDatabaseToolkit\n",
    "\n",
    "def get_sql_tools():\n",
    "    db = SQLDatabase.from_uri(\"sqlite:///Chinook_Sqlite.sqlite\")\n",
    "    toolkit = SQLDatabaseToolkit(db=db, llm=llm)\n",
    "    sql_tools = toolkit.get_tools()\n",
    "    return sql_tools"
   ]
  },
  {
   "cell_type": "code",
   "execution_count": 23,
   "metadata": {},
   "outputs": [],
   "source": [
    "custom_api_agent = create_react_agent(\n",
    "        model=llm,\n",
    "        tools=[claims_api, members_api],\n",
    "        name=\"custom_api_expert\",\n",
    "        prompt=\"You are a data domain specialist who has capability of providing information on any claim based on 'claim id' i,e clm01 and member details based on 'member id' i,e mem01. No consent is required for fetching the claim details\"\n",
    "    )\n"
   ]
  },
  {
   "cell_type": "code",
   "execution_count": 24,
   "metadata": {},
   "outputs": [],
   "source": [
    "sql_agent = create_react_agent(\n",
    "    model=llm,\n",
    "    tools=get_sql_tools(),\n",
    "    name=\"sql_agent\",\n",
    "    prompt=\"You are a sql expert. For any question related to sql get information from sql_tools. And these are the tables available in the DB: 'Album', 'Artist', 'Customer', 'Employee', 'Genre', 'Invoice', 'InvoiceLine', 'MediaType', 'Playlist', 'PlaylistTrack', 'Track'\",\n",
    "    )"
   ]
  },
  {
   "cell_type": "code",
   "execution_count": 25,
   "metadata": {},
   "outputs": [],
   "source": [
    "from langgraph_supervisor import  create_supervisor"
   ]
  },
  {
   "cell_type": "code",
   "execution_count": 26,
   "metadata": {},
   "outputs": [],
   "source": [
    "prompt = \"\"\"You are a team supervisor tasked with answering user questions using a variety of tools.\n",
    "        Tools: api_tools,  sql_tools. \n",
    "        \n",
    "        \"api_tool\": For questions about member and claims related details with member id like mem01 or \n",
    "        claims id like clm02, use the claims_api and member_api tool to get information from the api.\n",
    "\n",
    "        sql_tools: For any question related to sql get information from sql_tools.\n",
    "        And these are the tables available in the DB:\n",
    "        'Album', 'Artist', 'Customer', 'Employee', 'Genre', 'Invoice', 'InvoiceLine', 'MediaType', 'Playlist', 'PlaylistTrack', 'Track'\"\n",
    "        \"\"\"\n",
    "\n",
    "workflow = create_supervisor(\n",
    "    agents = [custom_api_agent, sql_agent], \n",
    "    model=llm,\n",
    "    prompt=prompt,\n",
    "    output_mode=\"full_history\"\n",
    ")\n",
    "\n",
    "app = workflow.compile()"
   ]
  },
  {
   "cell_type": "code",
   "execution_count": 27,
   "metadata": {},
   "outputs": [
    {
     "data": {
      "image/png": "[encoded data removed]",
      "text/plain": [
       "<IPython.core.display.Image object>"
      ]
     },
     "metadata": {},
     "output_type": "display_data"
    }
   ],
   "source": [
    "from IPython.display import display, Image\n",
    "\n",
    "display(Image(app.get_graph().draw_mermaid_png()))"
   ]
  },
  {
   "cell_type": "code",
   "execution_count": 28,
   "metadata": {},
   "outputs": [
    {
     "name": "stdout",
     "output_type": "stream",
     "text": [
      "---CLAIMS API---\n",
      "---MEMBERS API---\n"
     ]
    }
   ],
   "source": [
    "result = app.invoke({\"messages\": (\"user\", \"what's the status of claim id clm01 and full name of member mem01\")})"
   ]
  },
  {
   "cell_type": "code",
   "execution_count": 29,
   "metadata": {},
   "outputs": [
    {
     "name": "stdout",
     "output_type": "stream",
     "text": [
      "---CLAIMS API---\n",
      "---MEMBERS API---\n"
     ]
    }
   ],
   "source": [
    "result = app.invoke({\"messages\": (\"user\", \"what's the status of claim id clm01 and full name of member mem01 and provide Invoices of customers who are from Brazil\")})"
   ]
  },
  {
   "cell_type": "code",
   "execution_count": 30,
   "metadata": {},
   "outputs": [
    {
     "data": {
      "text/plain": [
       "{'messages': [HumanMessage(content=\"what's the status of claim id clm01 and full name of member mem01 and provide Invoices of customers who are from Brazil\", additional_kwargs={}, response_metadata={}, id='0f4f09b4-a7b9-4239-b3f3-33a90917b21c'),\n",
       "  AIMessage(content='', additional_kwargs={'tool_calls': [{'id': 'call_gqfwKArMPptqsI6gkLqMySwp', 'function': {'arguments': '{}', 'name': 'transfer_to_custom_api_expert'}, 'type': 'function'}], 'refusal': None}, response_metadata={'token_usage': {'completion_tokens': 15, 'prompt_tokens': 220, 'total_tokens': 235, 'completion_tokens_details': {'accepted_prediction_tokens': 0, 'audio_tokens': 0, 'reasoning_tokens': 0, 'rejected_prediction_tokens': 0}, 'prompt_tokens_details': {'audio_tokens': 0, 'cached_tokens': 0}}, 'model_name': 'gpt-4o-2024-05-13', 'system_fingerprint': 'fp_7ef970ab5a', 'id': 'chatcmpl-BHXUqG8Va3BOWMAMSeDkqabX5rfhW', 'prompt_filter_results': [{'prompt_index': 0, 'content_filter_results': {'hate': {'filtered': False, 'severity': 'safe'}, 'jailbreak': {'filtered': False, 'detected': False}, 'self_harm': {'filtered': False, 'severity': 'safe'}, 'sexual': {'filtered': False, 'severity': 'safe'}, 'violence': {'filtered': False, 'severity': 'safe'}}}], 'finish_reason': 'tool_calls', 'logprobs': None, 'content_filter_results': {}}, name='supervisor', id='run-388a154d-f6f8-4c42-9385-e605f5a856c8-0', tool_calls=[{'name': 'transfer_to_custom_api_expert', 'args': {}, 'id': 'call_gqfwKArMPptqsI6gkLqMySwp', 'type': 'tool_call'}], usage_metadata={'input_tokens': 220, 'output_tokens': 15, 'total_tokens': 235, 'input_token_details': {'audio': 0, 'cache_read': 0}, 'output_token_details': {'audio': 0, 'reasoning': 0}}),\n",
       "  ToolMessage(content='Successfully transferred to custom_api_expert', name='transfer_to_custom_api_expert', id='82bea704-a086-484a-ad77-7fb6180b0226', tool_call_id='call_gqfwKArMPptqsI6gkLqMySwp'),\n",
       "  AIMessage(content='', additional_kwargs={'tool_calls': [{'id': 'call_EBvAT9LfSavVZ05hObpyddPz', 'function': {'arguments': '{\"claimid\": \"clm01\"}', 'name': 'claims_api'}, 'type': 'function'}, {'id': 'call_JXFx9OVVhGviNkFOnmKZbVdz', 'function': {'arguments': '{\"mem_id\": \"mem01\"}', 'name': 'members_api'}, 'type': 'function'}], 'refusal': None}, response_metadata={'token_usage': {'completion_tokens': 51, 'prompt_tokens': 230, 'total_tokens': 281, 'completion_tokens_details': {'accepted_prediction_tokens': 0, 'audio_tokens': 0, 'reasoning_tokens': 0, 'rejected_prediction_tokens': 0}, 'prompt_tokens_details': {'audio_tokens': 0, 'cached_tokens': 0}}, 'model_name': 'gpt-4o-2024-05-13', 'system_fingerprint': 'fp_7ef970ab5a', 'id': 'chatcmpl-BHXUqVOE6c6YqgBGc32wvpYT3MgcT', 'prompt_filter_results': [{'prompt_index': 0, 'content_filter_results': {'hate': {'filtered': False, 'severity': 'safe'}, 'jailbreak': {'filtered': False, 'detected': False}, 'self_harm': {'filtered': False, 'severity': 'safe'}, 'sexual': {'filtered': False, 'severity': 'safe'}, 'violence': {'filtered': False, 'severity': 'safe'}}}], 'finish_reason': 'tool_calls', 'logprobs': None, 'content_filter_results': {}}, name='custom_api_expert', id='run-2f5e3fc5-ce40-4af4-92d8-5c593e3c0f3a-0', tool_calls=[{'name': 'claims_api', 'args': {'claimid': 'clm01'}, 'id': 'call_EBvAT9LfSavVZ05hObpyddPz', 'type': 'tool_call'}, {'name': 'members_api', 'args': {'mem_id': 'mem01'}, 'id': 'call_JXFx9OVVhGviNkFOnmKZbVdz', 'type': 'tool_call'}], usage_metadata={'input_tokens': 230, 'output_tokens': 51, 'total_tokens': 281, 'input_token_details': {'audio': 0, 'cache_read': 0}, 'output_token_details': {'audio': 0, 'reasoning': 0}}),\n",
       "  ToolMessage(content='{\"Claim\": {\"ClaimId\": \"CLM01\", \"Status\": \"Active\", \"ClaimAmount\": \"1001\", \"OutOfPocket\": \"101\", \"MemberId\": \"MEM01\", \"ClaimDate\": \"1991-04-30T00:00:00\"}}', name='claims_api', id='e027cb63-fd5c-4ead-b5fc-37c4ba925523', tool_call_id='call_EBvAT9LfSavVZ05hObpyddPz'),\n",
       "  ToolMessage(content='{\"Member\": {\"Age\": 61, \"MemberId\": \"MEM01\", \"Status\": \"Active\", \"Sex\": \"M\", \"FullName\": \"HAZELWOOD, ALEX\", \"SSN\": 205906111, \"DateOfBirth\": \"1961-04-30T00:00:00\"}}', name='members_api', id='9a2a1ceb-1ae7-4b24-b04f-2080d0bf36c1', tool_call_id='call_JXFx9OVVhGviNkFOnmKZbVdz'),\n",
       "  AIMessage(content='Here are the details:\\n\\n- **Claim Status:**\\n  - **Claim ID:** CLM01\\n  - **Status:** Active\\n\\n- **Member Details:**\\n  - **Member ID:** MEM01\\n  - **Full Name:** HAZELWOOD, ALEX\\n\\nRegarding the invoices of customers from Brazil, I do not have access to that specific functionality.', additional_kwargs={'refusal': None}, response_metadata={'token_usage': {'completion_tokens': 77, 'prompt_tokens': 428, 'total_tokens': 505, 'completion_tokens_details': {'accepted_prediction_tokens': 0, 'audio_tokens': 0, 'reasoning_tokens': 0, 'rejected_prediction_tokens': 0}, 'prompt_tokens_details': {'audio_tokens': 0, 'cached_tokens': 0}}, 'model_name': 'gpt-4o-2024-05-13', 'system_fingerprint': 'fp_7ef970ab5a', 'id': 'chatcmpl-BHXUsZPlO1NTQWyHz63cGBTMhT45r', 'prompt_filter_results': [{'prompt_index': 0, 'content_filter_results': {'hate': {'filtered': False, 'severity': 'safe'}, 'jailbreak': {'filtered': False, 'detected': False}, 'self_harm': {'filtered': False, 'severity': 'safe'}, 'sexual': {'filtered': False, 'severity': 'safe'}, 'violence': {'filtered': False, 'severity': 'safe'}}}], 'finish_reason': 'stop', 'logprobs': None, 'content_filter_results': {'hate': {'filtered': False, 'severity': 'safe'}, 'protected_material_code': {'filtered': False, 'detected': False}, 'protected_material_text': {'filtered': False, 'detected': False}, 'self_harm': {'filtered': False, 'severity': 'safe'}, 'sexual': {'filtered': False, 'severity': 'safe'}, 'violence': {'filtered': False, 'severity': 'safe'}}}, name='custom_api_expert', id='run-f74ae7f6-07de-4afb-9f2b-9fe966bd8f19-0', usage_metadata={'input_tokens': 428, 'output_tokens': 77, 'total_tokens': 505, 'input_token_details': {'audio': 0, 'cache_read': 0}, 'output_token_details': {'audio': 0, 'reasoning': 0}}),\n",
       "  AIMessage(content='Transferring back to supervisor', additional_kwargs={}, response_metadata={}, name='custom_api_expert', id='607264d7-76f2-4bc2-a682-0837adcab16b', tool_calls=[{'name': 'transfer_back_to_supervisor', 'args': {}, 'id': '6710588f-cb24-473a-a5be-f96654d4ccd5', 'type': 'tool_call'}]),\n",
       "  ToolMessage(content='Successfully transferred back to supervisor', name='transfer_back_to_supervisor', id='429dc0a7-a485-4e0a-abd1-d788254b92f6', tool_call_id='6710588f-cb24-473a-a5be-f96654d4ccd5'),\n",
       "  AIMessage(content='', additional_kwargs={'tool_calls': [{'id': 'call_UzzfAlshOhx55FrNmuesVotL', 'function': {'arguments': '{}', 'name': 'transfer_to_sql_agent'}, 'type': 'function'}], 'refusal': None}, response_metadata={'token_usage': {'completion_tokens': 13, 'prompt_tokens': 587, 'total_tokens': 600, 'completion_tokens_details': {'accepted_prediction_tokens': 0, 'audio_tokens': 0, 'reasoning_tokens': 0, 'rejected_prediction_tokens': 0}, 'prompt_tokens_details': {'audio_tokens': 0, 'cached_tokens': 0}}, 'model_name': 'gpt-4o-2024-05-13', 'system_fingerprint': 'fp_7ef970ab5a', 'id': 'chatcmpl-BHXUtoRLh10W2xu6ZiM7EV5pfVSmM', 'prompt_filter_results': [{'prompt_index': 0, 'content_filter_results': {'hate': {'filtered': False, 'severity': 'safe'}, 'jailbreak': {'filtered': False, 'detected': False}, 'self_harm': {'filtered': False, 'severity': 'safe'}, 'sexual': {'filtered': False, 'severity': 'safe'}, 'violence': {'filtered': False, 'severity': 'safe'}}}], 'finish_reason': 'tool_calls', 'logprobs': None, 'content_filter_results': {}}, name='supervisor', id='run-7ab0da10-3d73-4d21-aec3-12977cbea3d3-0', tool_calls=[{'name': 'transfer_to_sql_agent', 'args': {}, 'id': 'call_UzzfAlshOhx55FrNmuesVotL', 'type': 'tool_call'}], usage_metadata={'input_tokens': 587, 'output_tokens': 13, 'total_tokens': 600, 'input_token_details': {'audio': 0, 'cache_read': 0}, 'output_token_details': {'audio': 0, 'reasoning': 0}}),\n",
       "  ToolMessage(content='Successfully transferred to sql_agent', name='transfer_to_sql_agent', id='81737141-b763-43ae-9a2c-e568dc123228', tool_call_id='call_UzzfAlshOhx55FrNmuesVotL'),\n",
       "  AIMessage(content='', additional_kwargs={'tool_calls': [{'id': 'call_95QsGQdv0VpHdic0pPmZGDiA', 'function': {'arguments': '{\"table_names\":\"Customer, Invoice\"}', 'name': 'sql_db_schema'}, 'type': 'function'}], 'refusal': None}, response_metadata={'token_usage': {'completion_tokens': 19, 'prompt_tokens': 806, 'total_tokens': 825, 'completion_tokens_details': {'accepted_prediction_tokens': 0, 'audio_tokens': 0, 'reasoning_tokens': 0, 'rejected_prediction_tokens': 0}, 'prompt_tokens_details': {'audio_tokens': 0, 'cached_tokens': 0}}, 'model_name': 'gpt-4o-2024-05-13', 'system_fingerprint': 'fp_7ef970ab5a', 'id': 'chatcmpl-BHXUuSBWjAavHx1xts1UQRJFA7cSz', 'prompt_filter_results': [{'prompt_index': 0, 'content_filter_results': {'hate': {'filtered': False, 'severity': 'safe'}, 'jailbreak': {'filtered': False, 'detected': False}, 'self_harm': {'filtered': False, 'severity': 'safe'}, 'sexual': {'filtered': False, 'severity': 'safe'}, 'violence': {'filtered': False, 'severity': 'safe'}}}], 'finish_reason': 'tool_calls', 'logprobs': None, 'content_filter_results': {}}, name='sql_agent', id='run-026bdbfa-c246-4452-a8c0-7ef5cfd22dc8-0', tool_calls=[{'name': 'sql_db_schema', 'args': {'table_names': 'Customer, Invoice'}, 'id': 'call_95QsGQdv0VpHdic0pPmZGDiA', 'type': 'tool_call'}], usage_metadata={'input_tokens': 806, 'output_tokens': 19, 'total_tokens': 825, 'input_token_details': {'audio': 0, 'cache_read': 0}, 'output_token_details': {'audio': 0, 'reasoning': 0}}),\n",
       "  ToolMessage(content='\\nCREATE TABLE \"Customer\" (\\n\\t\"CustomerId\" INTEGER NOT NULL, \\n\\t\"FirstName\" NVARCHAR(40) NOT NULL, \\n\\t\"LastName\" NVARCHAR(20) NOT NULL, \\n\\t\"Company\" NVARCHAR(80), \\n\\t\"Address\" NVARCHAR(70), \\n\\t\"City\" NVARCHAR(40), \\n\\t\"State\" NVARCHAR(40), \\n\\t\"Country\" NVARCHAR(40), \\n\\t\"PostalCode\" NVARCHAR(10), \\n\\t\"Phone\" NVARCHAR(24), \\n\\t\"Fax\" NVARCHAR(24), \\n\\t\"Email\" NVARCHAR(60) NOT NULL, \\n\\t\"SupportRepId\" INTEGER, \\n\\tPRIMARY KEY (\"CustomerId\"), \\n\\tFOREIGN KEY(\"SupportRepId\") REFERENCES \"Employee\" (\"EmployeeId\")\\n)\\n\\n/*\\n3 rows from Customer table:\\nCustomerId\\tFirstName\\tLastName\\tCompany\\tAddress\\tCity\\tState\\tCountry\\tPostalCode\\tPhone\\tFax\\tEmail\\tSupportRepId\\n1\\tLuís\\tGonçalves\\tEmbraer - Empresa Brasileira de Aeronáutica S.A.\\tAv. Brigadeiro Faria Lima, 2170\\tSão José dos Campos\\tSP\\tBrazil\\t12227-000\\t+55 (12) 3923-5555\\t+55 (12) 3923-5566\\tluisg@embraer.com.br\\t3\\n2\\tLeonie\\tKöhler\\tNone\\tTheodor-Heuss-Straße 34\\tStuttgart\\tNone\\tGermany\\t70174\\t+49 0711 2842222\\tNone\\tleonekohler@surfeu.de\\t5\\n3\\tFrançois\\tTremblay\\tNone\\t1498 rue Bélanger\\tMontréal\\tQC\\tCanada\\tH2G 1A7\\t+1 (514) 721-4711\\tNone\\tftremblay@gmail.com\\t3\\n*/\\n\\n\\nCREATE TABLE \"Invoice\" (\\n\\t\"InvoiceId\" INTEGER NOT NULL, \\n\\t\"CustomerId\" INTEGER NOT NULL, \\n\\t\"InvoiceDate\" DATETIME NOT NULL, \\n\\t\"BillingAddress\" NVARCHAR(70), \\n\\t\"BillingCity\" NVARCHAR(40), \\n\\t\"BillingState\" NVARCHAR(40), \\n\\t\"BillingCountry\" NVARCHAR(40), \\n\\t\"BillingPostalCode\" NVARCHAR(10), \\n\\t\"Total\" NUMERIC(10, 2) NOT NULL, \\n\\tPRIMARY KEY (\"InvoiceId\"), \\n\\tFOREIGN KEY(\"CustomerId\") REFERENCES \"Customer\" (\"CustomerId\")\\n)\\n\\n/*\\n3 rows from Invoice table:\\nInvoiceId\\tCustomerId\\tInvoiceDate\\tBillingAddress\\tBillingCity\\tBillingState\\tBillingCountry\\tBillingPostalCode\\tTotal\\n1\\t2\\t2009-01-01 00:00:00\\tTheodor-Heuss-Straße 34\\tStuttgart\\tNone\\tGermany\\t70174\\t1.98\\n2\\t4\\t2009-01-02 00:00:00\\tUllevålsveien 14\\tOslo\\tNone\\tNorway\\t0171\\t3.96\\n3\\t8\\t2009-01-03 00:00:00\\tGrétrystraat 63\\tBrussels\\tNone\\tBelgium\\t1000\\t5.94\\n*/', name='sql_db_schema', id='e3d78d1e-97e8-4191-9e05-a8aefbca88cb', tool_call_id='call_95QsGQdv0VpHdic0pPmZGDiA'),\n",
       "  AIMessage(content='', additional_kwargs={'tool_calls': [{'id': 'call_qVUcWGwtHXqi1CqqGQx1dEQ3', 'function': {'arguments': '{\"query\":\"SELECT * FROM Invoice WHERE CustomerId IN (SELECT CustomerId FROM Customer WHERE Country = \\'Brazil\\')\"}', 'name': 'sql_db_query_checker'}, 'type': 'function'}], 'refusal': None}, response_metadata={'token_usage': {'completion_tokens': 36, 'prompt_tokens': 1527, 'total_tokens': 1563, 'completion_tokens_details': {'accepted_prediction_tokens': 0, 'audio_tokens': 0, 'reasoning_tokens': 0, 'rejected_prediction_tokens': 0}, 'prompt_tokens_details': {'audio_tokens': 0, 'cached_tokens': 0}}, 'model_name': 'gpt-4o-2024-05-13', 'system_fingerprint': 'fp_7ef970ab5a', 'id': 'chatcmpl-BHXUukVOa1k5NmPr6ANBDWQ8J5GGj', 'prompt_filter_results': [{'prompt_index': 0, 'content_filter_results': {'hate': {'filtered': False, 'severity': 'safe'}, 'jailbreak': {'filtered': False, 'detected': False}, 'self_harm': {'filtered': False, 'severity': 'safe'}, 'sexual': {'filtered': False, 'severity': 'safe'}, 'violence': {'filtered': False, 'severity': 'safe'}}}], 'finish_reason': 'tool_calls', 'logprobs': None, 'content_filter_results': {}}, name='sql_agent', id='run-06d45739-37f6-44ce-8587-5caf4a259575-0', tool_calls=[{'name': 'sql_db_query_checker', 'args': {'query': \"SELECT * FROM Invoice WHERE CustomerId IN (SELECT CustomerId FROM Customer WHERE Country = 'Brazil')\"}, 'id': 'call_qVUcWGwtHXqi1CqqGQx1dEQ3', 'type': 'tool_call'}], usage_metadata={'input_tokens': 1527, 'output_tokens': 36, 'total_tokens': 1563, 'input_token_details': {'audio': 0, 'cache_read': 0}, 'output_token_details': {'audio': 0, 'reasoning': 0}}),\n",
       "  ToolMessage(content=\"```sql\\nSELECT * FROM Invoice WHERE CustomerId IN (SELECT CustomerId FROM Customer WHERE Country = 'Brazil')\\n```\", name='sql_db_query_checker', id='704c21f3-b795-49a5-ba53-cdd1181ba8da', tool_call_id='call_qVUcWGwtHXqi1CqqGQx1dEQ3'),\n",
       "  AIMessage(content='', additional_kwargs={'tool_calls': [{'id': 'call_lftfg6mos960ENwwRAA25H2j', 'function': {'arguments': '{\"query\":\"SELECT * FROM Invoice WHERE CustomerId IN (SELECT CustomerId FROM Customer WHERE Country = \\'Brazil\\')\"}', 'name': 'sql_db_query'}, 'type': 'function'}], 'refusal': None}, response_metadata={'token_usage': {'completion_tokens': 35, 'prompt_tokens': 1599, 'total_tokens': 1634, 'completion_tokens_details': {'accepted_prediction_tokens': 0, 'audio_tokens': 0, 'reasoning_tokens': 0, 'rejected_prediction_tokens': 0}, 'prompt_tokens_details': {'audio_tokens': 0, 'cached_tokens': 1280}}, 'model_name': 'gpt-4o-2024-05-13', 'system_fingerprint': 'fp_7ef970ab5a', 'id': 'chatcmpl-BHXUwLw84QxjOKJ34Cby4uKuxzPKR', 'prompt_filter_results': [{'prompt_index': 0, 'content_filter_results': {'hate': {'filtered': False, 'severity': 'safe'}, 'jailbreak': {'filtered': False, 'detected': False}, 'self_harm': {'filtered': False, 'severity': 'safe'}, 'sexual': {'filtered': False, 'severity': 'safe'}, 'violence': {'filtered': False, 'severity': 'safe'}}}], 'finish_reason': 'tool_calls', 'logprobs': None, 'content_filter_results': {}}, name='sql_agent', id='run-c46e43e6-c1a1-4f5d-97f0-51b17673226a-0', tool_calls=[{'name': 'sql_db_query', 'args': {'query': \"SELECT * FROM Invoice WHERE CustomerId IN (SELECT CustomerId FROM Customer WHERE Country = 'Brazil')\"}, 'id': 'call_lftfg6mos960ENwwRAA25H2j', 'type': 'tool_call'}], usage_metadata={'input_tokens': 1599, 'output_tokens': 35, 'total_tokens': 1634, 'input_token_details': {'audio': 0, 'cache_read': 1280}, 'output_token_details': {'audio': 0, 'reasoning': 0}}),\n",
       "  ToolMessage(content=\"[(98, 1, '2010-03-11 00:00:00', 'Av. Brigadeiro Faria Lima, 2170', 'São José dos Campos', 'SP', 'Brazil', '12227-000', 3.98), (121, 1, '2010-06-13 00:00:00', 'Av. Brigadeiro Faria Lima, 2170', 'São José dos Campos', 'SP', 'Brazil', '12227-000', 3.96), (143, 1, '2010-09-15 00:00:00', 'Av. Brigadeiro Faria Lima, 2170', 'São José dos Campos', 'SP', 'Brazil', '12227-000', 5.94), (195, 1, '2011-05-06 00:00:00', 'Av. Brigadeiro Faria Lima, 2170', 'São José dos Campos', 'SP', 'Brazil', '12227-000', 0.99), (316, 1, '2012-10-27 00:00:00', 'Av. Brigadeiro Faria Lima, 2170', 'São José dos Campos', 'SP', 'Brazil', '12227-000', 1.98), (327, 1, '2012-12-07 00:00:00', 'Av. Brigadeiro Faria Lima, 2170', 'São José dos Campos', 'SP', 'Brazil', '12227-000', 13.86), (382, 1, '2013-08-07 00:00:00', 'Av. Brigadeiro Faria Lima, 2170', 'São José dos Campos', 'SP', 'Brazil', '12227-000', 8.91), (25, 10, '2009-04-09 00:00:00', 'Rua Dr. Falcão Filho, 155', 'São Paulo', 'SP', 'Brazil', '01007-010', 8.91), (154, 10, '2010-11-14 00:00:00', 'Rua Dr. Falcão Filho, 155', 'São Paulo', 'SP', 'Brazil', '01007-010', 1.98), (177, 10, '2011-02-16 00:00:00', 'Rua Dr. Falcão Filho, 155', 'São Paulo', 'SP', 'Brazil', '01007-010', 3.96), (199, 10, '2011-05-21 00:00:00', 'Rua Dr. Falcão Filho, 155', 'São Paulo', 'SP', 'Brazil', '01007-010', 5.94), (251, 10, '2012-01-09 00:00:00', 'Rua Dr. Falcão Filho, 155', 'São Paulo', 'SP', 'Brazil', '01007-010', 0.99), (372, 10, '2013-07-02 00:00:00', 'Rua Dr. Falcão Filho, 155', 'São Paulo', 'SP', 'Brazil', '01007-010', 1.98), (383, 10, '2013-08-12 00:00:00', 'Rua Dr. Falcão Filho, 155', 'São Paulo', 'SP', 'Brazil', '01007-010', 13.86), (57, 11, '2009-09-06 00:00:00', 'Av. Paulista, 2022', 'São Paulo', 'SP', 'Brazil', '01310-200', 1.98), (68, 11, '2009-10-17 00:00:00', 'Av. Paulista, 2022', 'São Paulo', 'SP', 'Brazil', '01310-200', 13.86), (123, 11, '2010-06-17 00:00:00', 'Av. Paulista, 2022', 'São Paulo', 'SP', 'Brazil', '01310-200', 8.91), (252, 11, '2012-01-22 00:00:00', 'Av. Paulista, 2022', 'São Paulo', 'SP', 'Brazil', '01310-200', 1.98), (275, 11, '2012-04-25 00:00:00', 'Av. Paulista, 2022', 'São Paulo', 'SP', 'Brazil', '01310-200', 3.96), (297, 11, '2012-07-28 00:00:00', 'Av. Paulista, 2022', 'São Paulo', 'SP', 'Brazil', '01310-200', 5.94), (349, 11, '2013-03-18 00:00:00', 'Av. Paulista, 2022', 'São Paulo', 'SP', 'Brazil', '01310-200', 0.99), (34, 12, '2009-05-23 00:00:00', 'Praça Pio X, 119', 'Rio de Janeiro', 'RJ', 'Brazil', '20040-020', 0.99), (155, 12, '2010-11-14 00:00:00', 'Praça Pio X, 119', 'Rio de Janeiro', 'RJ', 'Brazil', '20040-020', 1.98), (166, 12, '2010-12-25 00:00:00', 'Praça Pio X, 119', 'Rio de Janeiro', 'RJ', 'Brazil', '20040-020', 13.86), (221, 12, '2011-08-25 00:00:00', 'Praça Pio X, 119', 'Rio de Janeiro', 'RJ', 'Brazil', '20040-020', 8.91), (350, 12, '2013-03-31 00:00:00', 'Praça Pio X, 119', 'Rio de Janeiro', 'RJ', 'Brazil', '20040-020', 1.98), (373, 12, '2013-07-03 00:00:00', 'Praça Pio X, 119', 'Rio de Janeiro', 'RJ', 'Brazil', '20040-020', 3.96), (395, 12, '2013-10-05 00:00:00', 'Praça Pio X, 119', 'Rio de Janeiro', 'RJ', 'Brazil', '20040-020', 5.94), (35, 13, '2009-06-05 00:00:00', 'Qe 7 Bloco G', 'Brasília', 'DF', 'Brazil', '71020-677', 1.98), (58, 13, '2009-09-07 00:00:00', 'Qe 7 Bloco G', 'Brasília', 'DF', 'Brazil', '71020-677', 3.96), (80, 13, '2009-12-10 00:00:00', 'Qe 7 Bloco G', 'Brasília', 'DF', 'Brazil', '71020-677', 5.94), (132, 13, '2010-07-31 00:00:00', 'Qe 7 Bloco G', 'Brasília', 'DF', 'Brazil', '71020-677', 0.99), (253, 13, '2012-01-22 00:00:00', 'Qe 7 Bloco G', 'Brasília', 'DF', 'Brazil', '71020-677', 1.98), (264, 13, '2012-03-03 00:00:00', 'Qe 7 Bloco G', 'Brasília', 'DF', 'Brazil', '71020-677', 13.86), (319, 13, '2012-11-01 00:00:00', 'Qe 7 Bloco G', 'Brasília', 'DF', 'Brazil', '71020-677', 8.91)]\", name='sql_db_query', id='0d10194e-b187-4822-8efe-fed77b035f27', tool_call_id='call_lftfg6mos960ENwwRAA25H2j'),\n",
       "  AIMessage(content='Here are the invoices for customers from Brazil:\\n\\n1. **Invoice ID:** 98, **Customer ID:** 1, **Invoice Date:** 2010-03-11, **Total:** 3.98\\n2. **Invoice ID:** 121, **Customer ID:** 1, **Invoice Date:** 2010-06-13, **Total:** 3.96\\n3. **Invoice ID:** 143, **Customer ID:** 1, **Invoice Date:** 2010-09-15, **Total:** 5.94\\n4. **Invoice ID:** 195, **Customer ID:** 1, **Invoice Date:** 2011-05-06, **Total:** 0.99\\n5. **Invoice ID:** 316, **Customer ID:** 1, **Invoice Date:** 2012-10-27, **Total:** 1.98\\n6. **Invoice ID:** 327, **Customer ID:** 1, **Invoice Date:** 2012-12-07, **Total:** 13.86\\n7. **Invoice ID:** 382, **Customer ID:** 1, **Invoice Date:** 2013-08-07, **Total:** 8.91\\n8. **Invoice ID:** 25, **Customer ID:** 10, **Invoice Date:** 2009-04-09, **Total:** 8.91\\n9. **Invoice ID:** 154, **Customer ID:** 10, **Invoice Date:** 2010-11-14, **Total:** 1.98\\n10. **Invoice ID:** 177, **Customer ID:** 10, **Invoice Date:** 2011-02-16, **Total:** 3.96\\n11. **Invoice ID:** 199, **Customer ID:** 10, **Invoice Date:** 2011-05-21, **Total:** 5.94\\n12. **Invoice ID:** 251, **Customer ID:** 10, **Invoice Date:** 2012-01-09, **Total:** 0.99\\n13. **Invoice ID:** 372, **Customer ID:** 10, **Invoice Date:** 2013-07-02, **Total:** 1.98\\n14. **Invoice ID:** 383, **Customer ID:** 10, **Invoice Date:** 2013-08-12, **Total:** 13.86\\n15. **Invoice ID:** 57, **Customer ID:** 11, **Invoice Date:** 2009-09-06, **Total:** 1.98\\n16. **Invoice ID:** 68, **Customer ID:** 11, **Invoice Date:** 2009-10-17, **Total:** 13.86\\n17. **Invoice ID:** 123, **Customer ID:** 11, **Invoice Date:** 2010-06-17, **Total:** 8.91\\n18. **Invoice ID:** 252, **Customer ID:** 11, **Invoice Date:** 2012-01-22, **Total:** 1.98\\n19. **Invoice ID:** 275, **Customer ID:** 11, **Invoice Date:** 2012-04-25, **Total:** 3.96\\n20. **Invoice ID:** 297, **Customer ID:** 11, **Invoice Date:** 2012-07-28, **Total:** 5.94\\n21. **Invoice ID:** 349, **Customer ID:** 11, **Invoice Date:** 2013-03-18, **Total:** 0.99\\n22. **Invoice ID:** 34, **Customer ID:** 12, **Invoice Date:** 2009-05-23, **Total:** 0.99\\n23. **Invoice ID:** 155, **Customer ID:** 12, **Invoice Date:** 2010-11-14, **Total:** 1.98\\n24. **Invoice ID:** 166, **Customer ID:** 12, **Invoice Date:** 2010-12-25, **Total:** 13.86\\n25. **Invoice ID:** 221, **Customer ID:** 12, **Invoice Date:** 2011-08-25, **Total:** 8.91\\n26. **Invoice ID:** 350, **Customer ID:** 12, **Invoice Date:** 2013-03-31, **Total:** 1.98\\n27. **Invoice ID:** 373, **Customer ID:** 12, **Invoice Date:** 2013-07-03, **Total:** 3.96\\n28. **Invoice ID:** 395, **Customer ID:** 12, **Invoice Date:** 2013-10-05, **Total:** 5.94\\n29. **Invoice ID:** 35, **Customer ID:** 13, **Invoice Date:** 2009-06-05, **Total:** 1.98\\n30. **Invoice ID:** 58, **Customer ID:** 13, **Invoice Date:** 2009-09-07, **Total:** 3.96\\n31. **Invoice ID:** 80, **Customer ID:** 13, **Invoice Date:** 2009-12-10, **Total:** 5.94\\n32. **Invoice ID:** 132, **Customer ID:** 13, **Invoice Date:** 2010-07-31, **Total:** 0.99\\n33. **Invoice ID:** 253, **Customer ID:** 13, **Invoice Date:** 2012-01-22, **Total:** 1.98\\n34. **Invoice ID:** 264, **Customer ID:** 13, **Invoice Date:** 2012-03-03, **Total:** 13.86\\n35. **Invoice ID:** 319, **Customer ID:** 13, **Invoice Date:** 2012-11-01, **Total:** 8.91', additional_kwargs={'refusal': None}, response_metadata={'token_usage': {'completion_tokens': 1270, 'prompt_tokens': 3472, 'total_tokens': 4742, 'completion_tokens_details': {'accepted_prediction_tokens': 0, 'audio_tokens': 0, 'reasoning_tokens': 0, 'rejected_prediction_tokens': 0}, 'prompt_tokens_details': {'audio_tokens': 0, 'cached_tokens': 1280}}, 'model_name': 'gpt-4o-2024-05-13', 'system_fingerprint': 'fp_7ef970ab5a', 'id': 'chatcmpl-BHXUw8lfP3X8GvL1aEIAk6qcOSQBk', 'prompt_filter_results': [{'prompt_index': 0, 'content_filter_results': {'hate': {'filtered': False, 'severity': 'safe'}, 'jailbreak': {'filtered': False, 'detected': False}, 'self_harm': {'filtered': False, 'severity': 'safe'}, 'sexual': {'filtered': False, 'severity': 'safe'}, 'violence': {'filtered': False, 'severity': 'safe'}}}], 'finish_reason': 'stop', 'logprobs': None, 'content_filter_results': {'hate': {'filtered': False, 'severity': 'safe'}, 'protected_material_code': {'filtered': False, 'detected': False}, 'protected_material_text': {'filtered': False, 'detected': False}, 'self_harm': {'filtered': False, 'severity': 'safe'}, 'sexual': {'filtered': False, 'severity': 'safe'}, 'violence': {'filtered': False, 'severity': 'safe'}}}, name='sql_agent', id='run-fc7aff35-cb3b-44fd-bd85-a9ccdce5175b-0', usage_metadata={'input_tokens': 3472, 'output_tokens': 1270, 'total_tokens': 4742, 'input_token_details': {'audio': 0, 'cache_read': 1280}, 'output_token_details': {'audio': 0, 'reasoning': 0}}),\n",
       "  AIMessage(content='Transferring back to supervisor', additional_kwargs={}, response_metadata={}, name='sql_agent', id='a2774bc7-7573-4e3b-a151-57e83bcd21d8', tool_calls=[{'name': 'transfer_back_to_supervisor', 'args': {}, 'id': 'b99f45af-ffbf-4ed4-b24e-700b481f2571', 'type': 'tool_call'}]),\n",
       "  ToolMessage(content='Successfully transferred back to supervisor', name='transfer_back_to_supervisor', id='45e1dfe0-4fdf-433f-b2a2-04e62a9d9da2', tool_call_id='b99f45af-ffbf-4ed4-b24e-700b481f2571'),\n",
       "  AIMessage(content='Here is the consolidated information you requested:\\n\\n- **Claim ID:** CLM01\\n  - **Status:** Active\\n\\n- **Member ID:** MEM01\\n  - **Full Name:** HAZELWOOD, ALEX\\n\\n- **Invoices for Customers from Brazil:**\\n  1. **Invoice ID:** 98, **Customer ID:** 1, **Invoice Date:** 2010-03-11, **Total:** 3.98\\n  2. **Invoice ID:** 121, **Customer ID:** 1, **Invoice Date:** 2010-06-13, **Total:** 3.96\\n  3. **Invoice ID:** 143, **Customer ID:** 1, **Invoice Date:** 2010-09-15, **Total:** 5.94\\n  4. **Invoice ID:** 195, **Customer ID:** 1, **Invoice Date:** 2011-05-06, **Total:** 0.99\\n  5. **Invoice ID:** 316, **Customer ID:** 1, **Invoice Date:** 2012-10-27, **Total:** 1.98\\n  6. **Invoice ID:** 327, **Customer ID:** 1, **Invoice Date:** 2012-12-07, **Total:** 13.86\\n  7. **Invoice ID:** 382, **Customer ID:** 1, **Invoice Date:** 2013-08-07, **Total:** 8.91\\n  8. **Invoice ID:** 25, **Customer ID:** 10, **Invoice Date:** 2009-04-09, **Total:** 8.91\\n  9. **Invoice ID:** 154, **Customer ID:** 10, **Invoice Date:** 2010-11-14, **Total:** 1.98\\n  10. **Invoice ID:** 177, **Customer ID:** 10, **Invoice Date:** 2011-02-16, **Total:** 3.96\\n  11. **Invoice ID:** 199, **Customer ID:** 10, **Invoice Date:** 2011-05-21, **Total:** 5.94\\n  12. **Invoice ID:** 251, **Customer ID:** 10, **Invoice Date:** 2012-01-09, **Total:** 0.99\\n  13. **Invoice ID:** 372, **Customer ID:** 10, **Invoice Date:** 2013-07-02, **Total:** 1.98\\n  14. **Invoice ID:** 383, **Customer ID:** 10, **Invoice Date:** 2013-08-12, **Total:** 13.86\\n  15. **Invoice ID:** 57, **Customer ID:** 11, **Invoice Date:** 2009-09-06, **Total:** 1.98\\n  16. **Invoice ID:** 68, **Customer ID:** 11, **Invoice Date:** 2009-10-17, **Total:** 13.86\\n  17. **Invoice ID:** 123, **Customer ID:** 11, **Invoice Date:** 2010-06-17, **Total:** 8.91\\n  18. **Invoice ID:** 252, **Customer ID:** 11, **Invoice Date:** 2012-01-22, **Total:** 1.98\\n  19. **Invoice ID:** 275, **Customer ID:** 11, **Invoice Date:** 2012-04-25, **Total:** 3.96\\n  20. **Invoice ID:** 297, **Customer ID:** 11, **Invoice Date:** 2012-07-28, **Total:** 5.94\\n  21. **Invoice ID:** 349, **Customer ID:** 11, **Invoice Date:** 2013-03-18, **Total:** 0.99\\n  22. **Invoice ID:** 34, **Customer ID:** 12, **Invoice Date:** 2009-05-23, **Total:** 0.99\\n  23. **Invoice ID:** 155, **Customer ID:** 12, **Invoice Date:** 2010-11-14, **Total:** 1.98\\n  24. **Invoice ID:** 166, **Customer ID:** 12, **Invoice Date:** 2010-12-25, **Total:** 13.86\\n  25. **Invoice ID:** 221, **Customer ID:** 12, **Invoice Date:** 2011-08-25, **Total:** 8.91\\n  26. **Invoice ID:** 350, **Customer ID:** 12, **Invoice Date:** 2013-03-31, **Total:** 1.98\\n  27. **Invoice ID:** 373, **Customer ID:** 12, **Invoice Date:** 2013-07-03, **Total:** 3.96\\n  28. **Invoice ID:** 395, **Customer ID:** 12, **Invoice Date:** 2013-10-05, **Total:** 5.94\\n  29. **Invoice ID:** 35, **Customer ID:** 13, **Invoice Date:** 2009-06-05, **Total:** 1.98\\n  30. **Invoice ID:** 58, **Customer ID:** 13, **Invoice Date:** 2009-09-07, **Total:** 3.96\\n  31. **Invoice ID:** 80, **Customer ID:** 13, **Invoice Date:** 2009-12-10, **Total:** 5.94\\n  32. **Invoice ID:** 132, **Customer ID:** 13, **Invoice Date:** 2010-07-31, **Total:** 0.99\\n  33. **Invoice ID:** 253, **Customer ID:** 13, **Invoice Date:** 2012-01-22, **Total:** 1.98\\n  34. **Invoice ID:** 264, **Customer ID:** 13, **Invoice Date:** 2012-03-03, **Total:** 13.86\\n  35. **Invoice ID:** 319, **Customer ID:** 13, **Invoice Date:** 2012-11-01, **Total:** 8.91', additional_kwargs={'refusal': None}, response_metadata={'token_usage': {'completion_tokens': 1386, 'prompt_tokens': 4603, 'total_tokens': 5989, 'completion_tokens_details': {'accepted_prediction_tokens': 0, 'audio_tokens': 0, 'reasoning_tokens': 0, 'rejected_prediction_tokens': 0}, 'prompt_tokens_details': {'audio_tokens': 0, 'cached_tokens': 0}}, 'model_name': 'gpt-4o-2024-05-13', 'system_fingerprint': 'fp_7ef970ab5a', 'id': 'chatcmpl-BHXVCXRFtkLy6kkMqQOr12elrWPa5', 'prompt_filter_results': [{'prompt_index': 0, 'content_filter_results': {'hate': {'filtered': False, 'severity': 'safe'}, 'jailbreak': {'filtered': False, 'detected': False}, 'self_harm': {'filtered': False, 'severity': 'safe'}, 'sexual': {'filtered': False, 'severity': 'safe'}, 'violence': {'filtered': False, 'severity': 'safe'}}}], 'finish_reason': 'stop', 'logprobs': None, 'content_filter_results': {'hate': {'filtered': False, 'severity': 'safe'}, 'protected_material_code': {'filtered': False, 'detected': False}, 'protected_material_text': {'filtered': False, 'detected': False}, 'self_harm': {'filtered': False, 'severity': 'safe'}, 'sexual': {'filtered': False, 'severity': 'safe'}, 'violence': {'filtered': False, 'severity': 'safe'}}}, name='supervisor', id='run-67d667ee-d056-4b76-b07b-ea192b589d35-0', usage_metadata={'input_tokens': 4603, 'output_tokens': 1386, 'total_tokens': 5989, 'input_token_details': {'audio': 0, 'cache_read': 0}, 'output_token_details': {'audio': 0, 'reasoning': 0}})]}"
      ]
     },
     "execution_count": 30,
     "metadata": {},
     "output_type": "execute_result"
    }
   ],
   "source": [
    "result"
   ]
  },
  {
   "cell_type": "code",
   "execution_count": 31,
   "metadata": {},
   "outputs": [
    {
     "name": "stdout",
     "output_type": "stream",
     "text": [
      "================================\u001b[1m Human Message \u001b[0m=================================\n",
      "\n",
      "what's the status of claim id clm01 and full name of member mem01 and provide Invoices of customers who are from Brazil\n",
      "==================================\u001b[1m Ai Message \u001b[0m==================================\n",
      "Name: supervisor\n",
      "Tool Calls:\n",
      "  transfer_to_custom_api_expert (call_gqfwKArMPptqsI6gkLqMySwp)\n",
      " Call ID: call_gqfwKArMPptqsI6gkLqMySwp\n",
      "  Args:\n",
      "=================================\u001b[1m Tool Message \u001b[0m=================================\n",
      "Name: transfer_to_custom_api_expert\n",
      "\n",
      "Successfully transferred to custom_api_expert\n",
      "==================================\u001b[1m Ai Message \u001b[0m==================================\n",
      "Name: custom_api_expert\n",
      "Tool Calls:\n",
      "  claims_api (call_EBvAT9LfSavVZ05hObpyddPz)\n",
      " Call ID: call_EBvAT9LfSavVZ05hObpyddPz\n",
      "  Args:\n",
      "    claimid: clm01\n",
      "  members_api (call_JXFx9OVVhGviNkFOnmKZbVdz)\n",
      " Call ID: call_JXFx9OVVhGviNkFOnmKZbVdz\n",
      "  Args:\n",
      "    mem_id: mem01\n",
      "=================================\u001b[1m Tool Message \u001b[0m=================================\n",
      "Name: claims_api\n",
      "\n",
      "{\"Claim\": {\"ClaimId\": \"CLM01\", \"Status\": \"Active\", \"ClaimAmount\": \"1001\", \"OutOfPocket\": \"101\", \"MemberId\": \"MEM01\", \"ClaimDate\": \"1991-04-30T00:00:00\"}}\n",
      "=================================\u001b[1m Tool Message \u001b[0m=================================\n",
      "Name: members_api\n",
      "\n",
      "{\"Member\": {\"Age\": 61, \"MemberId\": \"MEM01\", \"Status\": \"Active\", \"Sex\": \"M\", \"FullName\": \"HAZELWOOD, ALEX\", \"SSN\": 205906111, \"DateOfBirth\": \"1961-04-30T00:00:00\"}}\n",
      "==================================\u001b[1m Ai Message \u001b[0m==================================\n",
      "Name: custom_api_expert\n",
      "\n",
      "Here are the details:\n",
      "\n",
      "- **Claim Status:**\n",
      "  - **Claim ID:** CLM01\n",
      "  - **Status:** Active\n",
      "\n",
      "- **Member Details:**\n",
      "  - **Member ID:** MEM01\n",
      "  - **Full Name:** HAZELWOOD, ALEX\n",
      "\n",
      "Regarding the invoices of customers from Brazil, I do not have access to that specific functionality.\n",
      "==================================\u001b[1m Ai Message \u001b[0m==================================\n",
      "Name: custom_api_expert\n",
      "\n",
      "Transferring back to supervisor\n",
      "Tool Calls:\n",
      "  transfer_back_to_supervisor (6710588f-cb24-473a-a5be-f96654d4ccd5)\n",
      " Call ID: 6710588f-cb24-473a-a5be-f96654d4ccd5\n",
      "  Args:\n",
      "=================================\u001b[1m Tool Message \u001b[0m=================================\n",
      "Name: transfer_back_to_supervisor\n",
      "\n",
      "Successfully transferred back to supervisor\n",
      "==================================\u001b[1m Ai Message \u001b[0m==================================\n",
      "Name: supervisor\n",
      "Tool Calls:\n",
      "  transfer_to_sql_agent (call_UzzfAlshOhx55FrNmuesVotL)\n",
      " Call ID: call_UzzfAlshOhx55FrNmuesVotL\n",
      "  Args:\n",
      "=================================\u001b[1m Tool Message \u001b[0m=================================\n",
      "Name: transfer_to_sql_agent\n",
      "\n",
      "Successfully transferred to sql_agent\n",
      "==================================\u001b[1m Ai Message \u001b[0m==================================\n",
      "Name: sql_agent\n",
      "Tool Calls:\n",
      "  sql_db_schema (call_95QsGQdv0VpHdic0pPmZGDiA)\n",
      " Call ID: call_95QsGQdv0VpHdic0pPmZGDiA\n",
      "  Args:\n",
      "    table_names: Customer, Invoice\n",
      "=================================\u001b[1m Tool Message \u001b[0m=================================\n",
      "Name: sql_db_schema\n",
      "\n",
      "\n",
      "CREATE TABLE \"Customer\" (\n",
      "\t\"CustomerId\" INTEGER NOT NULL, \n",
      "\t\"FirstName\" NVARCHAR(40) NOT NULL, \n",
      "\t\"LastName\" NVARCHAR(20) NOT NULL, \n",
      "\t\"Company\" NVARCHAR(80), \n",
      "\t\"Address\" NVARCHAR(70), \n",
      "\t\"City\" NVARCHAR(40), \n",
      "\t\"State\" NVARCHAR(40), \n",
      "\t\"Country\" NVARCHAR(40), \n",
      "\t\"PostalCode\" NVARCHAR(10), \n",
      "\t\"Phone\" NVARCHAR(24), \n",
      "\t\"Fax\" NVARCHAR(24), \n",
      "\t\"Email\" NVARCHAR(60) NOT NULL, \n",
      "\t\"SupportRepId\" INTEGER, \n",
      "\tPRIMARY KEY (\"CustomerId\"), \n",
      "\tFOREIGN KEY(\"SupportRepId\") REFERENCES \"Employee\" (\"EmployeeId\")\n",
      ")\n",
      "\n",
      "/*\n",
      "3 rows from Customer table:\n",
      "CustomerId\tFirstName\tLastName\tCompany\tAddress\tCity\tState\tCountry\tPostalCode\tPhone\tFax\tEmail\tSupportRepId\n",
      "1\tLuís\tGonçalves\tEmbraer - Empresa Brasileira de Aeronáutica S.A.\tAv. Brigadeiro Faria Lima, 2170\tSão José dos Campos\tSP\tBrazil\t12227-000\t+55 (12) 3923-5555\t+55 (12) 3923-5566\tluisg@embraer.com.br\t3\n",
      "2\tLeonie\tKöhler\tNone\tTheodor-Heuss-Straße 34\tStuttgart\tNone\tGermany\t70174\t+49 0711 2842222\tNone\tleonekohler@surfeu.de\t5\n",
      "3\tFrançois\tTremblay\tNone\t1498 rue Bélanger\tMontréal\tQC\tCanada\tH2G 1A7\t+1 (514) 721-4711\tNone\tftremblay@gmail.com\t3\n",
      "*/\n",
      "\n",
      "\n",
      "CREATE TABLE \"Invoice\" (\n",
      "\t\"InvoiceId\" INTEGER NOT NULL, \n",
      "\t\"CustomerId\" INTEGER NOT NULL, \n",
      "\t\"InvoiceDate\" DATETIME NOT NULL, \n",
      "\t\"BillingAddress\" NVARCHAR(70), \n",
      "\t\"BillingCity\" NVARCHAR(40), \n",
      "\t\"BillingState\" NVARCHAR(40), \n",
      "\t\"BillingCountry\" NVARCHAR(40), \n",
      "\t\"BillingPostalCode\" NVARCHAR(10), \n",
      "\t\"Total\" NUMERIC(10, 2) NOT NULL, \n",
      "\tPRIMARY KEY (\"InvoiceId\"), \n",
      "\tFOREIGN KEY(\"CustomerId\") REFERENCES \"Customer\" (\"CustomerId\")\n",
      ")\n",
      "\n",
      "/*\n",
      "3 rows from Invoice table:\n",
      "InvoiceId\tCustomerId\tInvoiceDate\tBillingAddress\tBillingCity\tBillingState\tBillingCountry\tBillingPostalCode\tTotal\n",
      "1\t2\t2009-01-01 00:00:00\tTheodor-Heuss-Straße 34\tStuttgart\tNone\tGermany\t70174\t1.98\n",
      "2\t4\t2009-01-02 00:00:00\tUllevålsveien 14\tOslo\tNone\tNorway\t0171\t3.96\n",
      "3\t8\t2009-01-03 00:00:00\tGrétrystraat 63\tBrussels\tNone\tBelgium\t1000\t5.94\n",
      "*/\n",
      "==================================\u001b[1m Ai Message \u001b[0m==================================\n",
      "Name: sql_agent\n",
      "Tool Calls:\n",
      "  sql_db_query_checker (call_qVUcWGwtHXqi1CqqGQx1dEQ3)\n",
      " Call ID: call_qVUcWGwtHXqi1CqqGQx1dEQ3\n",
      "  Args:\n",
      "    query: SELECT * FROM Invoice WHERE CustomerId IN (SELECT CustomerId FROM Customer WHERE Country = 'Brazil')\n",
      "=================================\u001b[1m Tool Message \u001b[0m=================================\n",
      "Name: sql_db_query_checker\n",
      "\n",
      "```sql\n",
      "SELECT * FROM Invoice WHERE CustomerId IN (SELECT CustomerId FROM Customer WHERE Country = 'Brazil')\n",
      "```\n",
      "==================================\u001b[1m Ai Message \u001b[0m==================================\n",
      "Name: sql_agent\n",
      "Tool Calls:\n",
      "  sql_db_query (call_lftfg6mos960ENwwRAA25H2j)\n",
      " Call ID: call_lftfg6mos960ENwwRAA25H2j\n",
      "  Args:\n",
      "    query: SELECT * FROM Invoice WHERE CustomerId IN (SELECT CustomerId FROM Customer WHERE Country = 'Brazil')\n",
      "=================================\u001b[1m Tool Message \u001b[0m=================================\n",
      "Name: sql_db_query\n",
      "\n",
      "[(98, 1, '2010-03-11 00:00:00', 'Av. Brigadeiro Faria Lima, 2170', 'São José dos Campos', 'SP', 'Brazil', '12227-000', 3.98), (121, 1, '2010-06-13 00:00:00', 'Av. Brigadeiro Faria Lima, 2170', 'São José dos Campos', 'SP', 'Brazil', '12227-000', 3.96), (143, 1, '2010-09-15 00:00:00', 'Av. Brigadeiro Faria Lima, 2170', 'São José dos Campos', 'SP', 'Brazil', '12227-000', 5.94), (195, 1, '2011-05-06 00:00:00', 'Av. Brigadeiro Faria Lima, 2170', 'São José dos Campos', 'SP', 'Brazil', '12227-000', 0.99), (316, 1, '2012-10-27 00:00:00', 'Av. Brigadeiro Faria Lima, 2170', 'São José dos Campos', 'SP', 'Brazil', '12227-000', 1.98), (327, 1, '2012-12-07 00:00:00', 'Av. Brigadeiro Faria Lima, 2170', 'São José dos Campos', 'SP', 'Brazil', '12227-000', 13.86), (382, 1, '2013-08-07 00:00:00', 'Av. Brigadeiro Faria Lima, 2170', 'São José dos Campos', 'SP', 'Brazil', '12227-000', 8.91), (25, 10, '2009-04-09 00:00:00', 'Rua Dr. Falcão Filho, 155', 'São Paulo', 'SP', 'Brazil', '01007-010', 8.91), (154, 10, '2010-11-14 00:00:00', 'Rua Dr. Falcão Filho, 155', 'São Paulo', 'SP', 'Brazil', '01007-010', 1.98), (177, 10, '2011-02-16 00:00:00', 'Rua Dr. Falcão Filho, 155', 'São Paulo', 'SP', 'Brazil', '01007-010', 3.96), (199, 10, '2011-05-21 00:00:00', 'Rua Dr. Falcão Filho, 155', 'São Paulo', 'SP', 'Brazil', '01007-010', 5.94), (251, 10, '2012-01-09 00:00:00', 'Rua Dr. Falcão Filho, 155', 'São Paulo', 'SP', 'Brazil', '01007-010', 0.99), (372, 10, '2013-07-02 00:00:00', 'Rua Dr. Falcão Filho, 155', 'São Paulo', 'SP', 'Brazil', '01007-010', 1.98), (383, 10, '2013-08-12 00:00:00', 'Rua Dr. Falcão Filho, 155', 'São Paulo', 'SP', 'Brazil', '01007-010', 13.86), (57, 11, '2009-09-06 00:00:00', 'Av. Paulista, 2022', 'São Paulo', 'SP', 'Brazil', '01310-200', 1.98), (68, 11, '2009-10-17 00:00:00', 'Av. Paulista, 2022', 'São Paulo', 'SP', 'Brazil', '01310-200', 13.86), (123, 11, '2010-06-17 00:00:00', 'Av. Paulista, 2022', 'São Paulo', 'SP', 'Brazil', '01310-200', 8.91), (252, 11, '2012-01-22 00:00:00', 'Av. Paulista, 2022', 'São Paulo', 'SP', 'Brazil', '01310-200', 1.98), (275, 11, '2012-04-25 00:00:00', 'Av. Paulista, 2022', 'São Paulo', 'SP', 'Brazil', '01310-200', 3.96), (297, 11, '2012-07-28 00:00:00', 'Av. Paulista, 2022', 'São Paulo', 'SP', 'Brazil', '01310-200', 5.94), (349, 11, '2013-03-18 00:00:00', 'Av. Paulista, 2022', 'São Paulo', 'SP', 'Brazil', '01310-200', 0.99), (34, 12, '2009-05-23 00:00:00', 'Praça Pio X, 119', 'Rio de Janeiro', 'RJ', 'Brazil', '20040-020', 0.99), (155, 12, '2010-11-14 00:00:00', 'Praça Pio X, 119', 'Rio de Janeiro', 'RJ', 'Brazil', '20040-020', 1.98), (166, 12, '2010-12-25 00:00:00', 'Praça Pio X, 119', 'Rio de Janeiro', 'RJ', 'Brazil', '20040-020', 13.86), (221, 12, '2011-08-25 00:00:00', 'Praça Pio X, 119', 'Rio de Janeiro', 'RJ', 'Brazil', '20040-020', 8.91), (350, 12, '2013-03-31 00:00:00', 'Praça Pio X, 119', 'Rio de Janeiro', 'RJ', 'Brazil', '20040-020', 1.98), (373, 12, '2013-07-03 00:00:00', 'Praça Pio X, 119', 'Rio de Janeiro', 'RJ', 'Brazil', '20040-020', 3.96), (395, 12, '2013-10-05 00:00:00', 'Praça Pio X, 119', 'Rio de Janeiro', 'RJ', 'Brazil', '20040-020', 5.94), (35, 13, '2009-06-05 00:00:00', 'Qe 7 Bloco G', 'Brasília', 'DF', 'Brazil', '71020-677', 1.98), (58, 13, '2009-09-07 00:00:00', 'Qe 7 Bloco G', 'Brasília', 'DF', 'Brazil', '71020-677', 3.96), (80, 13, '2009-12-10 00:00:00', 'Qe 7 Bloco G', 'Brasília', 'DF', 'Brazil', '71020-677', 5.94), (132, 13, '2010-07-31 00:00:00', 'Qe 7 Bloco G', 'Brasília', 'DF', 'Brazil', '71020-677', 0.99), (253, 13, '2012-01-22 00:00:00', 'Qe 7 Bloco G', 'Brasília', 'DF', 'Brazil', '71020-677', 1.98), (264, 13, '2012-03-03 00:00:00', 'Qe 7 Bloco G', 'Brasília', 'DF', 'Brazil', '71020-677', 13.86), (319, 13, '2012-11-01 00:00:00', 'Qe 7 Bloco G', 'Brasília', 'DF', 'Brazil', '71020-677', 8.91)]\n",
      "==================================\u001b[1m Ai Message \u001b[0m==================================\n",
      "Name: sql_agent\n",
      "\n",
      "Here are the invoices for customers from Brazil:\n",
      "\n",
      "1. **Invoice ID:** 98, **Customer ID:** 1, **Invoice Date:** 2010-03-11, **Total:** 3.98\n",
      "2. **Invoice ID:** 121, **Customer ID:** 1, **Invoice Date:** 2010-06-13, **Total:** 3.96\n",
      "3. **Invoice ID:** 143, **Customer ID:** 1, **Invoice Date:** 2010-09-15, **Total:** 5.94\n",
      "4. **Invoice ID:** 195, **Customer ID:** 1, **Invoice Date:** 2011-05-06, **Total:** 0.99\n",
      "5. **Invoice ID:** 316, **Customer ID:** 1, **Invoice Date:** 2012-10-27, **Total:** 1.98\n",
      "6. **Invoice ID:** 327, **Customer ID:** 1, **Invoice Date:** 2012-12-07, **Total:** 13.86\n",
      "7. **Invoice ID:** 382, **Customer ID:** 1, **Invoice Date:** 2013-08-07, **Total:** 8.91\n",
      "8. **Invoice ID:** 25, **Customer ID:** 10, **Invoice Date:** 2009-04-09, **Total:** 8.91\n",
      "9. **Invoice ID:** 154, **Customer ID:** 10, **Invoice Date:** 2010-11-14, **Total:** 1.98\n",
      "10. **Invoice ID:** 177, **Customer ID:** 10, **Invoice Date:** 2011-02-16, **Total:** 3.96\n",
      "11. **Invoice ID:** 199, **Customer ID:** 10, **Invoice Date:** 2011-05-21, **Total:** 5.94\n",
      "12. **Invoice ID:** 251, **Customer ID:** 10, **Invoice Date:** 2012-01-09, **Total:** 0.99\n",
      "13. **Invoice ID:** 372, **Customer ID:** 10, **Invoice Date:** 2013-07-02, **Total:** 1.98\n",
      "14. **Invoice ID:** 383, **Customer ID:** 10, **Invoice Date:** 2013-08-12, **Total:** 13.86\n",
      "15. **Invoice ID:** 57, **Customer ID:** 11, **Invoice Date:** 2009-09-06, **Total:** 1.98\n",
      "16. **Invoice ID:** 68, **Customer ID:** 11, **Invoice Date:** 2009-10-17, **Total:** 13.86\n",
      "17. **Invoice ID:** 123, **Customer ID:** 11, **Invoice Date:** 2010-06-17, **Total:** 8.91\n",
      "18. **Invoice ID:** 252, **Customer ID:** 11, **Invoice Date:** 2012-01-22, **Total:** 1.98\n",
      "19. **Invoice ID:** 275, **Customer ID:** 11, **Invoice Date:** 2012-04-25, **Total:** 3.96\n",
      "20. **Invoice ID:** 297, **Customer ID:** 11, **Invoice Date:** 2012-07-28, **Total:** 5.94\n",
      "21. **Invoice ID:** 349, **Customer ID:** 11, **Invoice Date:** 2013-03-18, **Total:** 0.99\n",
      "22. **Invoice ID:** 34, **Customer ID:** 12, **Invoice Date:** 2009-05-23, **Total:** 0.99\n",
      "23. **Invoice ID:** 155, **Customer ID:** 12, **Invoice Date:** 2010-11-14, **Total:** 1.98\n",
      "24. **Invoice ID:** 166, **Customer ID:** 12, **Invoice Date:** 2010-12-25, **Total:** 13.86\n",
      "25. **Invoice ID:** 221, **Customer ID:** 12, **Invoice Date:** 2011-08-25, **Total:** 8.91\n",
      "26. **Invoice ID:** 350, **Customer ID:** 12, **Invoice Date:** 2013-03-31, **Total:** 1.98\n",
      "27. **Invoice ID:** 373, **Customer ID:** 12, **Invoice Date:** 2013-07-03, **Total:** 3.96\n",
      "28. **Invoice ID:** 395, **Customer ID:** 12, **Invoice Date:** 2013-10-05, **Total:** 5.94\n",
      "29. **Invoice ID:** 35, **Customer ID:** 13, **Invoice Date:** 2009-06-05, **Total:** 1.98\n",
      "30. **Invoice ID:** 58, **Customer ID:** 13, **Invoice Date:** 2009-09-07, **Total:** 3.96\n",
      "31. **Invoice ID:** 80, **Customer ID:** 13, **Invoice Date:** 2009-12-10, **Total:** 5.94\n",
      "32. **Invoice ID:** 132, **Customer ID:** 13, **Invoice Date:** 2010-07-31, **Total:** 0.99\n",
      "33. **Invoice ID:** 253, **Customer ID:** 13, **Invoice Date:** 2012-01-22, **Total:** 1.98\n",
      "34. **Invoice ID:** 264, **Customer ID:** 13, **Invoice Date:** 2012-03-03, **Total:** 13.86\n",
      "35. **Invoice ID:** 319, **Customer ID:** 13, **Invoice Date:** 2012-11-01, **Total:** 8.91\n",
      "==================================\u001b[1m Ai Message \u001b[0m==================================\n",
      "Name: sql_agent\n",
      "\n",
      "Transferring back to supervisor\n",
      "Tool Calls:\n",
      "  transfer_back_to_supervisor (b99f45af-ffbf-4ed4-b24e-700b481f2571)\n",
      " Call ID: b99f45af-ffbf-4ed4-b24e-700b481f2571\n",
      "  Args:\n",
      "=================================\u001b[1m Tool Message \u001b[0m=================================\n",
      "Name: transfer_back_to_supervisor\n",
      "\n",
      "Successfully transferred back to supervisor\n",
      "==================================\u001b[1m Ai Message \u001b[0m==================================\n",
      "Name: supervisor\n",
      "\n",
      "Here is the consolidated information you requested:\n",
      "\n",
      "- **Claim ID:** CLM01\n",
      "  - **Status:** Active\n",
      "\n",
      "- **Member ID:** MEM01\n",
      "  - **Full Name:** HAZELWOOD, ALEX\n",
      "\n",
      "- **Invoices for Customers from Brazil:**\n",
      "  1. **Invoice ID:** 98, **Customer ID:** 1, **Invoice Date:** 2010-03-11, **Total:** 3.98\n",
      "  2. **Invoice ID:** 121, **Customer ID:** 1, **Invoice Date:** 2010-06-13, **Total:** 3.96\n",
      "  3. **Invoice ID:** 143, **Customer ID:** 1, **Invoice Date:** 2010-09-15, **Total:** 5.94\n",
      "  4. **Invoice ID:** 195, **Customer ID:** 1, **Invoice Date:** 2011-05-06, **Total:** 0.99\n",
      "  5. **Invoice ID:** 316, **Customer ID:** 1, **Invoice Date:** 2012-10-27, **Total:** 1.98\n",
      "  6. **Invoice ID:** 327, **Customer ID:** 1, **Invoice Date:** 2012-12-07, **Total:** 13.86\n",
      "  7. **Invoice ID:** 382, **Customer ID:** 1, **Invoice Date:** 2013-08-07, **Total:** 8.91\n",
      "  8. **Invoice ID:** 25, **Customer ID:** 10, **Invoice Date:** 2009-04-09, **Total:** 8.91\n",
      "  9. **Invoice ID:** 154, **Customer ID:** 10, **Invoice Date:** 2010-11-14, **Total:** 1.98\n",
      "  10. **Invoice ID:** 177, **Customer ID:** 10, **Invoice Date:** 2011-02-16, **Total:** 3.96\n",
      "  11. **Invoice ID:** 199, **Customer ID:** 10, **Invoice Date:** 2011-05-21, **Total:** 5.94\n",
      "  12. **Invoice ID:** 251, **Customer ID:** 10, **Invoice Date:** 2012-01-09, **Total:** 0.99\n",
      "  13. **Invoice ID:** 372, **Customer ID:** 10, **Invoice Date:** 2013-07-02, **Total:** 1.98\n",
      "  14. **Invoice ID:** 383, **Customer ID:** 10, **Invoice Date:** 2013-08-12, **Total:** 13.86\n",
      "  15. **Invoice ID:** 57, **Customer ID:** 11, **Invoice Date:** 2009-09-06, **Total:** 1.98\n",
      "  16. **Invoice ID:** 68, **Customer ID:** 11, **Invoice Date:** 2009-10-17, **Total:** 13.86\n",
      "  17. **Invoice ID:** 123, **Customer ID:** 11, **Invoice Date:** 2010-06-17, **Total:** 8.91\n",
      "  18. **Invoice ID:** 252, **Customer ID:** 11, **Invoice Date:** 2012-01-22, **Total:** 1.98\n",
      "  19. **Invoice ID:** 275, **Customer ID:** 11, **Invoice Date:** 2012-04-25, **Total:** 3.96\n",
      "  20. **Invoice ID:** 297, **Customer ID:** 11, **Invoice Date:** 2012-07-28, **Total:** 5.94\n",
      "  21. **Invoice ID:** 349, **Customer ID:** 11, **Invoice Date:** 2013-03-18, **Total:** 0.99\n",
      "  22. **Invoice ID:** 34, **Customer ID:** 12, **Invoice Date:** 2009-05-23, **Total:** 0.99\n",
      "  23. **Invoice ID:** 155, **Customer ID:** 12, **Invoice Date:** 2010-11-14, **Total:** 1.98\n",
      "  24. **Invoice ID:** 166, **Customer ID:** 12, **Invoice Date:** 2010-12-25, **Total:** 13.86\n",
      "  25. **Invoice ID:** 221, **Customer ID:** 12, **Invoice Date:** 2011-08-25, **Total:** 8.91\n",
      "  26. **Invoice ID:** 350, **Customer ID:** 12, **Invoice Date:** 2013-03-31, **Total:** 1.98\n",
      "  27. **Invoice ID:** 373, **Customer ID:** 12, **Invoice Date:** 2013-07-03, **Total:** 3.96\n",
      "  28. **Invoice ID:** 395, **Customer ID:** 12, **Invoice Date:** 2013-10-05, **Total:** 5.94\n",
      "  29. **Invoice ID:** 35, **Customer ID:** 13, **Invoice Date:** 2009-06-05, **Total:** 1.98\n",
      "  30. **Invoice ID:** 58, **Customer ID:** 13, **Invoice Date:** 2009-09-07, **Total:** 3.96\n",
      "  31. **Invoice ID:** 80, **Customer ID:** 13, **Invoice Date:** 2009-12-10, **Total:** 5.94\n",
      "  32. **Invoice ID:** 132, **Customer ID:** 13, **Invoice Date:** 2010-07-31, **Total:** 0.99\n",
      "  33. **Invoice ID:** 253, **Customer ID:** 13, **Invoice Date:** 2012-01-22, **Total:** 1.98\n",
      "  34. **Invoice ID:** 264, **Customer ID:** 13, **Invoice Date:** 2012-03-03, **Total:** 13.86\n",
      "  35. **Invoice ID:** 319, **Customer ID:** 13, **Invoice Date:** 2012-11-01, **Total:** 8.91\n"
     ]
    }
   ],
   "source": [
    "for m in result['messages']:\n",
    "    m.pretty_print()"
   ]
  },
  {
   "cell_type": "code",
   "execution_count": null,
   "metadata": {},
   "outputs": [],
   "source": []
  },
  {
   "cell_type": "code",
   "execution_count": null,
   "metadata": {},
   "outputs": [],
   "source": []
  }
 ],
 "metadata": {
  "kernelspec": {
   "display_name": "langchain",
   "language": "python",
   "name": "python3"
  },
  "language_info": {
   "codemirror_mode": {
    "name": "ipython",
    "version": 3
   },
   "file_extension": ".py",
   "mimetype": "text/x-python",
   "name": "python",
   "nbconvert_exporter": "python",
   "pygments_lexer": "ipython3",
   "version": "3.12.0"
  }
 },
 "nbformat": 4,
 "nbformat_minor": 2
}
